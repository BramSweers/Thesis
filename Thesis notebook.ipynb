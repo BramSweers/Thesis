{
 "cells": [
  {
   "cell_type": "code",
   "execution_count": null,
   "id": "24dbc305-4ca1-4522-94bb-74f429706812",
   "metadata": {},
   "outputs": [],
   "source": [
    "import pandas as                                                      #https://pandas.pydata.org/\n",
    "import seaborn as sns                                                 #https://seaborn.pydata.org/generated/seaborn.heatmap.html\n",
    "from scipy.stats import pearsonr                                      #https://docs.scipy.org/doc/scipy/reference/generated/scipy.stats.pearsonr.html\n",
    "import matplotlib.pyplot as plt                                       #https://matplotlib.org/3.5.3/api/_as_gen/matplotlib.pyplot.html\n",
    "from scipy.stats import ttest_ind                                     #https://docs.scipy.org/doc/scipy/reference/generated/scipy.stats.ttest_ind.html\n",
    "from scipy import stats                                               #https://docs.scipy.org/doc/scipy/tutorial/stats.html\n",
    "from sklearn.preprocessing import MinMaxScaler                        #https://scikit-learn.org/stable/modules/generated/sklearn.preprocessing.MinMaxScaler.html\n",
    "import numpy as np                                                    #https://numpy.org/doc/stable/user/absolute_beginners.html\n",
    "from sklearn.metrics import accuracy_score, f1_score, precision_score, recall_score #https://scikit-learn.org/stable/modules/classes.html#module-sklearn.metrics\n",
    "from sklearn.model_selection import train_test_split                  #https://scikit-learn.org/stable/modules/generated/sklearn.model_selection.train_test_split.html\n",
    "from sklearn.metrics import ConfusionMatrixDisplay                    #https://scikit-learn.org/stable/modules/generated/sklearn.metrics.ConfusionMatrixDisplay.html\n",
    "from sklearn.svm import SVC                                           #https://scikit-learn.org/stable/modules/svm.html\n",
    "from sklearnex import patch_sklearn                                   #https://intel.github.io/scikit-learn-intelex/latest/\n",
    "from sklearn import svm                                               #https://scikit-learn.org/stable/modules/svm.html\n",
    "from sklearn.model_selection import GridSearchCV                      #https://scikit-learn.org/stable/modules/generated/sklearn.model_selection.GridSearchCV.html\n",
    "from sklearn.naive_bayes import GaussianNB                            #https://scikit-learn.org/stable/modules/generated/sklearn.naive_bayes.GaussianNB.html\n",
    "from sklearn.ensemble import RandomForestClassifier                   #https://scikit-learn.org/stable/modules/generated/sklearn.ensemble.RandomForestClassifier.html\n",
    "from dateutil.relativedelta import relativedelta                      #https://dateutil.readthedocs.io/en/stable/relativedelta.html\n",
    "from sklearn.linear_model import LogisticRegression                   #https://scikit-learn.org/stable/modules/generated/sklearn.linear_model.LogisticRegression.html\n",
    "\n",
    "\n",
    "\n",
    "\n",
    "\n",
    "path = \"C:\\\\Users\\\\brams\\\\Documents\\\\Python\\\\thesis\\\\rl\\\\games_by_players.csv\"\n",
    "dtype_dict = {'int_column': int, 'float_column': float}\n",
    "\n",
    "\n",
    "df = pd.read_csv(path, low_memory=False)"
   ]
  },
  {
   "cell_type": "code",
   "execution_count": null,
   "id": "ee656b7b-4f3d-46d7-81f1-5344fa0d3a2d",
   "metadata": {},
   "outputs": [],
   "source": [
    "pip install matplotlib\n"
   ]
  },
  {
   "cell_type": "code",
   "execution_count": null,
   "id": "660688a7-468f-4423-b172-bd20edcfa4ca",
   "metadata": {},
   "outputs": [],
   "source": [
    "import matplotlib.pyplot as plt"
   ]
  },
  {
   "cell_type": "code",
   "execution_count": null,
   "id": "0dc694c0-9522-4909-8a6d-3c2a518cb932",
   "metadata": {},
   "outputs": [],
   "source": [
    "pd.set_option('display.max_columns', None)\n",
    "df.head(10)"
   ]
  },
  {
   "cell_type": "code",
   "execution_count": null,
   "id": "1fac845f-580e-4290-ad1a-4b8d1e8f08de",
   "metadata": {},
   "outputs": [],
   "source": [
    "\n",
    "row_count = len(df)\n",
    "\n",
    "\n",
    "print(f'Total number of rows in the dataset: {row_count}')"
   ]
  },
  {
   "cell_type": "code",
   "execution_count": null,
   "id": "4aab7c7a-f44f-4a81-aa24-ae22f68197a3",
   "metadata": {},
   "outputs": [],
   "source": [
    "distinct_count = df['player_tag'].nunique()\n",
    "\n",
    "\n",
    "print(\"Distinct Count:\", distinct_count)"
   ]
  },
  {
   "cell_type": "code",
   "execution_count": null,
   "id": "a1885658-e71e-436d-9f3d-a0ae29e9fe06",
   "metadata": {},
   "outputs": [],
   "source": [
    "distinct_count = df['game_id'].nunique()\n",
    "\n",
    "\n",
    "print(\"Distinct Count:\", distinct_count)"
   ]
  },
  {
   "cell_type": "code",
   "execution_count": null,
   "id": "1154c14d-eef2-4006-8109-3e24f536af09",
   "metadata": {
    "tags": []
   },
   "outputs": [],
   "source": [
    "df['player_tag'] = df['player_tag'].str.lower()\n",
    "df['player_tag'] = df['player_tag'].str.replace('_', ' ')\n",
    "df['player_tag'] = df['player_tag'].str.replace('.', '')\n",
    "distinct_names = df[\"player_tag\"].drop_duplicates().tolist()\n",
    "\n",
    "\n",
    "print(distinct_names)"
   ]
  },
  {
   "cell_type": "code",
   "execution_count": null,
   "id": "ed6b9683-ad8c-41c9-96c7-d616802cde2a",
   "metadata": {
    "tags": []
   },
   "outputs": [],
   "source": [
    "path2 = \"C:\\\\Users\\\\brams\\\\Documents\\\\Python\\\\thesis\\\\rl\\\\age2.csv\"\n",
    "df2 = pd.read_csv(path2, low_memory=False)\n",
    "df2.loc[df2['name'] == 'SquishyMuffinz', 'name'] = 'squishy'\n",
    "df2.loc[df2['name'] == 'Scrub_(Australian_Player)', 'name'] = 'scrub'\n",
    "df2.loc[df2['name'] == 'Fairy_Peak', 'name'] = 'fairy peak!'\n",
    "df2['name'] = df2['name'].str.replace('_', ' ')\n",
    "df2['name'] = df2['name'].str.lower()\n",
    "\n",
    "\n",
    "\n",
    "\n",
    "\n",
    "distinct_names2 = df2[\"name\"].drop_duplicates().tolist()\n",
    "\n",
    "\n",
    "print(distinct_names2)"
   ]
  },
  {
   "cell_type": "code",
   "execution_count": null,
   "id": "1a069c27-3717-46aa-acfd-cf64998af123",
   "metadata": {
    "tags": []
   },
   "outputs": [],
   "source": [
    "df2"
   ]
  },
  {
   "cell_type": "code",
   "execution_count": null,
   "id": "7b0da5eb-1186-4f92-93ac-22d6752e7620",
   "metadata": {},
   "outputs": [],
   "source": []
  },
  {
   "cell_type": "code",
   "execution_count": null,
   "id": "08e6b53c-f161-4e79-97d6-aed0ef7596d3",
   "metadata": {
    "tags": []
   },
   "outputs": [],
   "source": [
    "set1 = set(distinct_names)\n",
    "set2 = set(distinct_names2)\n",
    "\n",
    "\n",
    "common_elements = set1.intersection(set2)\n",
    "\n",
    "\n",
    "common_count = len(common_elements)\n",
    "\n",
    "\n",
    "print(\"Common elements:\", common_elements)\n",
    "print(\"Number of common elements:\", common_count)\n",
    "\n",
    "## streepjes zorgen ervoor dat namen niet kloppen"
   ]
  },
  {
   "cell_type": "code",
   "execution_count": null,
   "id": "3eb27aa0-4145-4567-b37c-2e98c3f63ccc",
   "metadata": {
    "tags": []
   },
   "outputs": [],
   "source": [
    "result = set1 - set2\n",
    "result_list = list(result)\n",
    "print(\"Elements in list1 but not in list2:\", result_list)"
   ]
  },
  {
   "cell_type": "code",
   "execution_count": null,
   "id": "f9dd9c26-f559-405b-80f5-627807815ad9",
   "metadata": {},
   "outputs": [],
   "source": [
    "df2 = df2.rename(columns={'name': 'player_tag'})"
   ]
  },
  {
   "cell_type": "code",
   "execution_count": null,
   "id": "c44824fb-4c6e-4c91-a94d-952d71501518",
   "metadata": {},
   "outputs": [],
   "source": [
    "merged_df = df.merge(df2, on='player_tag', how='left')"
   ]
  },
  {
   "cell_type": "code",
   "execution_count": null,
   "id": "f7f08cd2-b6f3-4ce7-9fa7-8b1ddbd84f6a",
   "metadata": {},
   "outputs": [],
   "source": [
    "merged_df"
   ]
  },
  {
   "cell_type": "code",
   "execution_count": null,
   "id": "30800724-4463-48f2-81ba-3204bdcaf8ff",
   "metadata": {},
   "outputs": [],
   "source": []
  },
  {
   "cell_type": "code",
   "execution_count": null,
   "id": "04a25009-85be-4b46-9432-72313c8d9505",
   "metadata": {},
   "outputs": [],
   "source": []
  },
  {
   "cell_type": "code",
   "execution_count": null,
   "id": "eb722e4e-bd6c-4763-bdb3-4b274b490785",
   "metadata": {},
   "outputs": [],
   "source": []
  },
  {
   "cell_type": "code",
   "execution_count": null,
   "id": "fabe644c-5894-42d7-9d68-c8384a19f208",
   "metadata": {},
   "outputs": [],
   "source": [
    "missing_values_count = merged_df['DOB'].isna().sum()\n",
    "\n",
    "\n",
    "print(\"Number of missing values:\", missing_values_count)"
   ]
  },
  {
   "cell_type": "code",
   "execution_count": null,
   "id": "d46b2878-6dc6-42d6-a7a8-1fd1e74d3b47",
   "metadata": {
    "tags": []
   },
   "outputs": [],
   "source": [
    "filtered_df = merged_df[merged_df['DOB'].isna()]\n",
    "\n",
    "\n",
    "filtered_df"
   ]
  },
  {
   "cell_type": "code",
   "execution_count": null,
   "id": "b1ed0b8b-e9cf-432d-8ce2-07a6cf3cb8ca",
   "metadata": {},
   "outputs": [],
   "source": [
    "distinct_player_tags = filtered_df['player_tag'].unique()\n",
    "\n",
    "\n",
    "print(distinct_player_tags)"
   ]
  },
  {
   "cell_type": "code",
   "execution_count": null,
   "id": "0f397b11-c8ae-423f-ae8c-ccc43ec84527",
   "metadata": {},
   "outputs": [],
   "source": [
    "filtered_df2 = merged_df[merged_df['DOB'] == '1-1-1970']\n",
    "\n",
    "\n",
    "filtered_df2"
   ]
  },
  {
   "cell_type": "code",
   "execution_count": null,
   "id": "a8808c63-4546-46b7-a5eb-2b3e649df930",
   "metadata": {},
   "outputs": [],
   "source": []
  },
  {
   "cell_type": "code",
   "execution_count": null,
   "id": "b734732c-4e33-4541-bdec-bdd09819e9ed",
   "metadata": {},
   "outputs": [],
   "source": []
  },
  {
   "cell_type": "code",
   "execution_count": null,
   "id": "d6b0c778-aba5-4366-8b25-11b3da907021",
   "metadata": {},
   "outputs": [],
   "source": []
  },
  {
   "cell_type": "code",
   "execution_count": null,
   "id": "042924ff-7f25-40ba-90a7-f896b143293b",
   "metadata": {},
   "outputs": [],
   "source": [
    "final_df = merged_df[(merged_df['DOB'] != '1-1-1970') & (~merged_df['DOB'].isna())]\n",
    "final_df"
   ]
  },
  {
   "cell_type": "code",
   "execution_count": null,
   "id": "6fe9b968-422c-465a-9eb2-00f8f70b2e11",
   "metadata": {},
   "outputs": [],
   "source": [
    "final_df = final_df.copy()\n",
    "\n",
    "\n",
    "final_df.loc[:, 'DOB'] = pd.to_datetime(final_df['DOB'], format='%d-%m-%Y')\n",
    "\n",
    "\n",
    "reference_date = pd.to_datetime('1-10-2022', format='%d-%m-%Y')\n",
    "\n",
    "\n",
    "final_df.loc[:, 'Age'] = (reference_date - final_df['DOB']).astype('<m8[Y]').astype(int)\n",
    "\n",
    "\n",
    "final_df = final_df.drop(['game_id', 'color','player_id','platform','car_id','steering_sensitivity','camera_fov','camera_height','camera_pitch','camera_distance','camera_stiffness','camera_swivel_speed','camera_transition_speed','team_id'], axis=1)\n",
    "\n",
    "\n",
    "final_df"
   ]
  },
  {
   "cell_type": "code",
   "execution_count": null,
   "id": "1a3bedc2-676b-4af1-9055-b52920db04d1",
   "metadata": {
    "tags": []
   },
   "outputs": [],
   "source": [
    "                                            # EDA"
   ]
  },
  {
   "cell_type": "code",
   "execution_count": null,
   "id": "fd7313f9-43ec-4b6a-96d1-bf7c012e8ecf",
   "metadata": {},
   "outputs": [],
   "source": [
    "#missing values\n",
    "na_counts_without_0 = (final_df.isna() & (final_df != 0)).sum()\n",
    "\n",
    "\n",
    "\n",
    "\n",
    "na_columns_without_0 = na_counts_without_0[na_counts_without_0 > 0]\n",
    "print(na_columns_without_0)\n",
    "\n",
    "na_rows = final_df[final_df.isna().any(axis=1)]\n",
    "\n",
    "na_rows"
   ]
  },
  {
   "cell_type": "code",
   "execution_count": null,
   "id": "b85dcc93-dd42-409a-aa8d-80c60fe85418",
   "metadata": {},
   "outputs": [],
   "source": [
    "# delete missing values\n",
    "final_df = final_df.dropna(subset=['boost_bpm'])\n",
    "\n",
    "\n",
    "\n",
    "#nan_check = x.isna().any()\n",
    "\n",
    "\n",
    "#nan_check"
   ]
  },
  {
   "cell_type": "code",
   "execution_count": null,
   "id": "fd4e6a75-8750-402e-9c95-202b3cc2d10c",
   "metadata": {},
   "outputs": [],
   "source": [
    "#--------------------- graphs"
   ]
  },
  {
   "cell_type": "code",
   "execution_count": null,
   "id": "bc35bd19-0c0f-47a1-941f-aac38282ddc6",
   "metadata": {},
   "outputs": [],
   "source": [
    "age_frequency = final_df['Age'].value_counts().reset_index()\n",
    "\n",
    "\n",
    "age_frequency.columns = ['Age', 'Frequency']\n",
    "\n",
    "\n",
    "age_frequency = age_frequency.sort_values(by='Frequency')\n",
    "\n",
    "plt.figure(figsize=(8, 6))\n",
    "plt.bar(age_frequency['Age'], age_frequency['Frequency'], color='skyblue')\n",
    "plt.xlabel('Age')\n",
    "plt.ylabel('Frequency')\n",
    "plt.title('Age Frequency Histogram')\n",
    "plt.xticks(age_frequency['Age'])\n",
    "plt.show()\n",
    "\n",
    "#-----------------------------------\n",
    "distinct_players = final_df.drop_duplicates(subset=['player_tag'])\n",
    "age_frequency2 = distinct_players['Age'].value_counts().reset_index()\n",
    "\n",
    "\n",
    "age_frequency2.columns = ['Age', 'Frequency']\n",
    "\n",
    "\n",
    "age_frequency2 = age_frequency2.sort_values(by='Frequency')\n",
    "\n",
    "plt.figure(figsize=(8, 6))\n",
    "plt.bar(age_frequency2['Age'], age_frequency2['Frequency'], color='skyblue')\n",
    "plt.xlabel('Age')\n",
    "plt.ylabel('Frequency')\n",
    "plt.title('Age Frequency Histogram2')\n",
    "plt.xticks(age_frequency2['Age'])\n",
    "plt.show()\n",
    "\n",
    "\n",
    "\n",
    "\n",
    "\n",
    "\n",
    "\n",
    "#-----------------------------\n"
   ]
  },
  {
   "cell_type": "code",
   "execution_count": null,
   "id": "d62aac8e-0206-411b-8e5c-7bdeaf153567",
   "metadata": {},
   "outputs": [],
   "source": [
    "\n",
    "import seaborn as sns\n",
    "plt.figure(figsize=(8, 6))\n",
    "sns.regplot(x='Age', y='movement_percent_supersonic_speed', data=final_df, scatter_kws={'s': 100})\n",
    "\n",
    "\n",
    "plt.ylim(0, 40)\n",
    "\n",
    "\n",
    "plt.title('Correlation between Age and Movement Percent Supersonic Speed')\n",
    "plt.xlabel('Age')\n",
    "plt.ylabel('Movement Percent Supersonic Speed')\n",
    "\n",
    "\n",
    "plt.show()"
   ]
  },
  {
   "cell_type": "code",
   "execution_count": null,
   "id": "babd6101-b744-4aff-8448-d0966f6ed107",
   "metadata": {},
   "outputs": [],
   "source": [
    "df_downsampled = final_df.sample(n=250, random_state=1) \n",
    "\n",
    "\n",
    "plt.figure(figsize=(8, 6))\n",
    "sns.regplot(x='Age', y='movement_percent_supersonic_speed', data=df_downsampled, scatter_kws={'s': 100, 'marker': 'o'})\n",
    "\n",
    "\n",
    "\n",
    "\n",
    "\n",
    "plt.title('Correlation between Age and Movement Percent Supersonic Speed')\n",
    "plt.xlabel('Age')\n",
    "plt.ylabel('Movement Percent Supersonic Speed')\n",
    "\n",
    "\n",
    "plt.show()\n",
    "\n",
    "#------------------------------------------------------------\n",
    "\n",
    "\n",
    "plt.figure(figsize=(8, 6))\n",
    "sns.boxplot(x='Age', y='movement_percent_supersonic_speed', data=final_df)\n",
    "\n",
    "\n",
    "\n",
    "\n",
    "plt.title('Box Plot of Age and Movement Percent Supersonic Speed')\n",
    "plt.xlabel('Age')\n",
    "plt.ylabel('Movement Percent Supersonic Speed')\n",
    "\n",
    "\n",
    "plt.show()\n",
    "\n",
    "\n",
    "#---------------------------------------------\n",
    "plt.figure(figsize=(8, 6))\n",
    "sns.regplot(x='Age', y='positioning_avg_distance_to_ball_possession', data=df_downsampled, scatter_kws={'s': 100, 'marker': 'o', 'color' : 'red'})\n",
    "\n",
    "\n",
    "\n",
    "\n",
    "plt.title('Correlation between age and the player distance to the ball')\n",
    "plt.xlabel('Age')\n",
    "plt.ylabel('Average distance to ball')\n",
    "\n",
    "\n",
    "plt.show()\n",
    "\n",
    "#----------------------------------------------------\n",
    "\n",
    "\n",
    "\n",
    "plt.figure(figsize=(8, 6))\n",
    "sns.regplot(x='Age', y='boost_time_full_boost', data=df_downsampled, scatter_kws={'s': 100, 'marker': 'o','color': 'black'})\n",
    "\n",
    "\n",
    "\n",
    "\n",
    "plt.title('Correlation between age and time at full boost')\n",
    "plt.xlabel('Age')\n",
    "plt.ylabel('Time at full boost')\n",
    "\n",
    "\n",
    "plt.show()"
   ]
  },
  {
   "cell_type": "code",
   "execution_count": null,
   "id": "974bc523-f0bf-4a86-b137-58534434c0c4",
   "metadata": {},
   "outputs": [],
   "source": [
    "df_downsampled = final_featureengi.sample(n=250, random_state=1) \n",
    "\n",
    "\n",
    "\n",
    "plt.figure(figsize=(8, 6))\n",
    "sns.regplot(x='Age', y='boost_bpm', data=df_downsampled, scatter_kws={'s': 100, 'marker': 'o','color': 'green'})\n",
    "\n",
    "plt.title('Correlation between Age and boost usage')\n",
    "plt.xlabel('Age')\n",
    "plt.ylabel('Movement Percent Supersonic Speed')\n",
    "\n",
    "\n",
    "plt.show()\n",
    "\n",
    "#----------------------------------------------------------\n",
    "\n",
    "\n",
    "plt.figure(figsize=(8, 6))\n",
    "sns.regplot(x='Age', y='movement_count_powerslide', data=df_downsampled, scatter_kws={'s': 100, 'marker': 'o','color': 'red'})\n",
    "\n",
    "\n",
    "\n",
    "\n",
    "\n",
    "plt.title('Correlation between Age and number of powerslides')\n",
    "plt.xlabel('Age')\n",
    "plt.ylabel('Number of powerslides')\n",
    "\n",
    "\n",
    "plt.show()\n",
    "\n",
    "#----------------------------------------------------------\n",
    "\n",
    "\n",
    "plt.figure(figsize=(8, 6))\n",
    "sns.regplot(x='Age', y='boost_time_full_boost', data=df_downsampled, scatter_kws={'s': 100, 'marker': 'o','color': 'orange'})\n",
    "\n",
    "\n",
    "\n",
    "\n",
    "\n",
    "plt.title('Correlation between Age and time spent on full boost')\n",
    "plt.xlabel('Age')\n",
    "plt.ylabel('Time spend on full boost in seconds')\n",
    "\n",
    "\n",
    "plt.show()\n",
    "\n",
    "\n"
   ]
  },
  {
   "cell_type": "code",
   "execution_count": null,
   "id": "b587453f-aac1-4d2e-88b0-32f7b82ec886",
   "metadata": {},
   "outputs": [],
   "source": [
    "\n",
    "\n",
    "\n",
    "\n",
    "age = final_featureengi['Age']\n",
    "movement_count_powerslide = final_featureengi['core_saves']\n",
    "\n",
    "\n",
    "correlation_coefficient, p_value = pearsonr(age, movement_count_powerslide)\n",
    "\n",
    "\n",
    "print(f\"Pearson correlation coefficient: {correlation_coefficient}\")\n",
    "print(f\"P-value: {p_value}\")"
   ]
  },
  {
   "cell_type": "code",
   "execution_count": null,
   "id": "9ba94d93-bc80-475d-a3da-77986c176435",
   "metadata": {},
   "outputs": [],
   "source": [
    "\n",
    "\n",
    "\n",
    "age = final_featureengi['Age']\n",
    "movement_count_powerslide = final_featureengi['movement_count_powerslide']\n",
    "\n",
    "\n",
    "correlation_coefficient, p_value = pearsonr(age, movement_count_powerslide)\n",
    "\n",
    "\n",
    "print(f\"Pearson Correlation Coefficient: {correlation_coefficient}\")\n",
    "print(f\"P-value: {p_value}\")\n",
    "\n",
    "\n",
    "alpha = 0.05\n",
    "if p_value < alpha:\n",
    "    print(\"The correlation is statistically significant.\")\n",
    "else:\n",
    "    print(\"The correlation is not statistically significant.\")\n",
    "\n"
   ]
  },
  {
   "cell_type": "code",
   "execution_count": null,
   "id": "57c25892-df42-4826-8475-6af73b7f1d97",
   "metadata": {},
   "outputs": [],
   "source": []
  },
  {
   "cell_type": "code",
   "execution_count": null,
   "id": "a20ddf3d-250e-4c28-acc0-e506468d5038",
   "metadata": {},
   "outputs": [],
   "source": []
  },
  {
   "cell_type": "code",
   "execution_count": null,
   "id": "5f8cafd9-801e-4c0e-b075-3353a22ce7d0",
   "metadata": {},
   "outputs": [],
   "source": [
    "final_bin_region"
   ]
  },
  {
   "cell_type": "code",
   "execution_count": null,
   "id": "1617f552-32e9-4ac1-82f4-04109ab31f41",
   "metadata": {},
   "outputs": [],
   "source": []
  },
  {
   "cell_type": "code",
   "execution_count": null,
   "id": "47e13d0a-e15a-47af-941a-2f6f9371fa25",
   "metadata": {},
   "outputs": [],
   "source": []
  },
  {
   "cell_type": "code",
   "execution_count": null,
   "id": "7e6023c2-572d-4212-a76e-0503df12a4a7",
   "metadata": {},
   "outputs": [],
   "source": []
  },
  {
   "cell_type": "code",
   "execution_count": null,
   "id": "c1cdb674-b288-4868-8e79-fac637b74c8d",
   "metadata": {},
   "outputs": [],
   "source": [
    "\n",
    "age = final_featureengi['Age']\n",
    "movement_count_powerslide = final_featureengi['movement_count_powerslide']\n",
    "\n",
    "\n",
    "correlation_coefficient, p_value = pearsonr(age, movement_count_powerslide)\n",
    "\n",
    "\n",
    "t_statistic, t_p_value = ttest_ind(age, movement_count_powerslide)\n",
    "\n",
    "\n",
    "degree_of_freedom = len(age) + len(movement_count_powerslide) - 2\n",
    "\n",
    "\n",
    "p_value_threshold = 1e-15\n",
    "\n",
    "print(f\"Pearson Correlation Coefficient: {correlation_coefficient:.15f}\")\n",
    "print(f\"P-value (Pearson): {'<2e-16' if p_value < p_value_threshold else f'{p_value:.15e}'}\")\n",
    "print(f\"T-statistic: {t_statistic:.15f}\")\n",
    "print(f\"P-value (t-test): {'<2e-16' if t_p_value < p_value_threshold else f'{t_p_value:.15e}'}\")\n",
    "print(f\"Degrees of Freedom: {degree_of_freedom}\")\n",
    "\n",
    "alpha = 0.05\n",
    "if p_value < alpha:\n",
    "    print(\"The correlation is statistically significant.\")\n",
    "else:\n",
    "    print(\"The correlation is not statistically significant.\")\n"
   ]
  },
  {
   "cell_type": "code",
   "execution_count": null,
   "id": "0129ba02-0ba8-4e35-9977-bf3f92da6e7d",
   "metadata": {
    "tags": []
   },
   "outputs": [],
   "source": [
    "final_featureengi['Age']\n",
    "#correlation_matrix = final_df.corr()\n",
    "\n",
    "\n",
    "#correlation_matrix"
   ]
  },
  {
   "cell_type": "code",
   "execution_count": null,
   "id": "056fd175-3511-4c01-bcff-9df4dd41b01d",
   "metadata": {},
   "outputs": [],
   "source": []
  },
  {
   "cell_type": "code",
   "execution_count": null,
   "id": "1887c101-c48e-4d91-8ed4-b0cb6ec8c721",
   "metadata": {},
   "outputs": [],
   "source": []
  },
  {
   "cell_type": "code",
   "execution_count": null,
   "id": "cb3a0f90-6e41-4262-b4ce-059098082482",
   "metadata": {},
   "outputs": [],
   "source": [
    "wins_per_age = final_featureengi.groupby('Age')['winner'].sum()\n",
    "\n",
    "print(\"Number of Wins per Age:\")\n",
    "print(wins_per_age)"
   ]
  },
  {
   "cell_type": "code",
   "execution_count": null,
   "id": "ec8f518a-a5e0-44e3-8dce-f717946665a5",
   "metadata": {},
   "outputs": [],
   "source": []
  },
  {
   "cell_type": "code",
   "execution_count": null,
   "id": "df2b3ca4-23e3-4e84-92b3-cb36e20fd0cc",
   "metadata": {},
   "outputs": [],
   "source": []
  },
  {
   "cell_type": "code",
   "execution_count": null,
   "id": "334f9094-8cf0-4a13-b60d-03b620a20274",
   "metadata": {},
   "outputs": [],
   "source": []
  },
  {
   "cell_type": "code",
   "execution_count": null,
   "id": "9cf18344-ea22-487e-919c-9039edd1609b",
   "metadata": {},
   "outputs": [],
   "source": [
    "final_featureengi['boost_time_full_boost']"
   ]
  },
  {
   "cell_type": "code",
   "execution_count": null,
   "id": "2170c3df-ede3-4039-b8c9-725e1b55140a",
   "metadata": {
    "tags": []
   },
   "outputs": [],
   "source": [
    "#import seaborn as sns\n",
    "#plt.figure(figsize=(64, 48))\n",
    "#sns.heatmap(correlation_matrix, annot=True, cmap='coolwarm', fmt=\".2f\")\n",
    "#plt.title('Correlation Matrix Heatmap')\n",
    "#plt.savefig('correlation_matrix.png', dpi=300, bbox_inches='tight')\n",
    "\n",
    "\n",
    "final_featureengi.to_csv('final_featureengi.csv', index=False)\n",
    "\n"
   ]
  },
  {
   "cell_type": "code",
   "execution_count": null,
   "id": "dcf4e1b1-ed33-476c-8d0b-efd9d8077155",
   "metadata": {},
   "outputs": [],
   "source": [
    "final_featureengi"
   ]
  },
  {
   "cell_type": "code",
   "execution_count": null,
   "id": "6f2c8d65-6b2e-4bf6-9bd1-d2638e853513",
   "metadata": {},
   "outputs": [],
   "source": []
  },
  {
   "cell_type": "code",
   "execution_count": null,
   "id": "38a08a52-1433-4528-9ea7-7b3de3f00b84",
   "metadata": {},
   "outputs": [],
   "source": []
  },
  {
   "cell_type": "code",
   "execution_count": null,
   "id": "36aab016-55c2-45b3-b37b-6765aead1958",
   "metadata": {},
   "outputs": [],
   "source": [
    "# outliers"
   ]
  },
  {
   "cell_type": "code",
   "execution_count": null,
   "id": "a18f35f5-b391-4b9f-b2c1-aebe68e9a5b7",
   "metadata": {},
   "outputs": [],
   "source": [
    "\n",
    "\n",
    "final_df['Z_Scores'] = stats.zscore(final_df['core_score'])\n",
    "\n",
    "\n",
    "threshold = 4.025 #boven the 1000 in game punten\n",
    "\n",
    "\n",
    "\n",
    "outliers = final_df.loc[abs(final_df['Z_Scores']) > threshold]\n",
    "\n",
    "\n",
    "outliers = outliers.sort_values(by='core_score', ascending=True)\n",
    "outliers\n",
    "\n"
   ]
  },
  {
   "cell_type": "code",
   "execution_count": null,
   "id": "7d469803-b8a4-4d2f-9d0c-06e1ad1ee7c7",
   "metadata": {},
   "outputs": [],
   "source": [
    "\n",
    "indices_to_drop = outliers.index\n",
    "\n",
    "\n",
    "final_df = final_df.drop(indices_to_drop)\n",
    "\n",
    "final_df"
   ]
  },
  {
   "cell_type": "code",
   "execution_count": null,
   "id": "f7480792-2320-4228-871b-4ade62def829",
   "metadata": {
    "tags": []
   },
   "outputs": [],
   "source": [
    "#normalize"
   ]
  },
  {
   "cell_type": "code",
   "execution_count": null,
   "id": "c2899d34-128e-4167-84cc-194b923209b0",
   "metadata": {},
   "outputs": [],
   "source": [
    "\n",
    "final_featureengi = final_df.copy()\n",
    "\n",
    "\n",
    "cols_to_normalize = final_df.columns[2:87]\n",
    "\n",
    "\n",
    "scaler = MinMaxScaler()\n",
    "\n",
    "\n",
    "final_df[cols_to_normalize] = scaler.fit_transform(final_df[cols_to_normalize])\n",
    "\n",
    "\n",
    "final_df"
   ]
  },
  {
   "cell_type": "code",
   "execution_count": null,
   "id": "5fd9cabe-11b2-4186-a6e5-ebbf9f36abfd",
   "metadata": {},
   "outputs": [],
   "source": []
  },
  {
   "cell_type": "code",
   "execution_count": null,
   "id": "62378da0-f039-4bb2-90db-da46e17d23ed",
   "metadata": {
    "tags": []
   },
   "outputs": [],
   "source": [
    "def metrics(true, pred):   \n",
    "    acc = accuracy_score(true, pred)\n",
    "    f1 = f1_score(true, pred, average='weighted') \n",
    "    recall = recall_score(true, pred, average='weighted')  \n",
    "    precision = precision_score(true, pred, average='weighted')  \n",
    "    print('F1 score: ', f1)\n",
    "    print('Accuracy score: ', acc)\n",
    "    print('Recall score: ', recall)\n",
    "    print('Precision score: ', precision)"
   ]
  },
  {
   "cell_type": "code",
   "execution_count": null,
   "id": "12124029-df07-415b-9703-0abf358fa7b9",
   "metadata": {},
   "outputs": [],
   "source": []
  },
  {
   "cell_type": "code",
   "execution_count": null,
   "id": "ad8ae56d-6a05-421b-8461-8dd247ec7f03",
   "metadata": {},
   "outputs": [],
   "source": [
    "#----------------------------------------------------machine learning--------------------------------------------------------------------------------"
   ]
  },
  {
   "cell_type": "code",
   "execution_count": null,
   "id": "7299d80b-1256-495b-9703-31237918b7da",
   "metadata": {
    "tags": []
   },
   "outputs": [],
   "source": [
    "#balance the data\n",
    "final_bal = final_df.copy()\n",
    "\n",
    "final_bal['Age_Group'] = final_bal['Age'].apply(lambda x: '15-16' if 15 <= x <= 16 else '23+' if x >= 23 else str(x))\n",
    "final_bal"
   ]
  },
  {
   "cell_type": "code",
   "execution_count": null,
   "id": "d21de7ae-ced3-4622-a980-9e128ca335b7",
   "metadata": {},
   "outputs": [],
   "source": [
    "age_frequency = final_bal['Age_Group'].value_counts().reset_index()\n",
    "\n",
    "\n",
    "age_frequency.columns = ['Age_Group', 'Frequency']\n",
    "\n",
    "\n",
    "age_frequency = age_frequency.sort_values(by='Age_Group')\n",
    "\n",
    "plt.figure(figsize=(8, 6))\n",
    "plt.bar(age_frequency['Age_Group'], age_frequency['Frequency'], color='skyblue')\n",
    "plt.xlabel('Age')\n",
    "plt.ylabel('Frequency')\n",
    "plt.title('Age Frequency Histogram')\n",
    "plt.xticks(age_frequency['Age_Group'])\n",
    "plt.show()"
   ]
  },
  {
   "cell_type": "code",
   "execution_count": null,
   "id": "e36b0500-c5d6-4845-82e0-9a57877c5ecc",
   "metadata": {},
   "outputs": [],
   "source": []
  },
  {
   "cell_type": "code",
   "execution_count": null,
   "id": "e4fb7a40-7be6-4328-b11e-1381475a8e27",
   "metadata": {},
   "outputs": [],
   "source": [
    "#random delete data so that the data is ballanced\n",
    "\n",
    "\n",
    "\n",
    "group_counts = final_bal['Age_Group'].value_counts()\n",
    "\n",
    "\n",
    "target_count = 6000\n",
    "\n",
    "balanced_data = pd.DataFrame()  \n",
    "\n",
    "\n",
    "for group in group_counts.index:\n",
    "    \n",
    "    group_data = final_bal[final_bal['Age_Group'] == group]\n",
    "    \n",
    "    \n",
    "    if len(group_data) > target_count:\n",
    "        group_data = group_data.sample(n=target_count, random_state=1)  \n",
    "    \n",
    "    \n",
    "    balanced_data = balanced_data.append(group_data)\n",
    "\n",
    "\n",
    "balanced_data = balanced_data.reset_index(drop=True)\n",
    "balanced_data"
   ]
  },
  {
   "cell_type": "code",
   "execution_count": null,
   "id": "8f606324-0dc6-442e-9b9c-f91609dc8220",
   "metadata": {},
   "outputs": [],
   "source": [
    "final_bal = balanced_data.copy()\n",
    "age_frequency = final_bal['Age_Group'].value_counts().reset_index()\n",
    "\n",
    "\n",
    "age_frequency.columns = ['Age_Group', 'Frequency']\n",
    "\n",
    "\n",
    "age_frequency = age_frequency.sort_values(by='Age_Group')\n",
    "\n",
    "plt.figure(figsize=(8, 6))\n",
    "plt.bar(age_frequency['Age_Group'], age_frequency['Frequency'], color='skyblue')\n",
    "plt.xlabel('Age')\n",
    "plt.ylabel('Frequency')\n",
    "plt.title('Age Frequency Histogram')\n",
    "plt.xticks(age_frequency['Age_Group'])\n",
    "plt.show()"
   ]
  },
  {
   "cell_type": "code",
   "execution_count": null,
   "id": "4d34b532-69fd-493b-9077-e4c8b66ec386",
   "metadata": {},
   "outputs": [],
   "source": [
    "#split the data in training,test and validation set\n",
    "\n",
    "\n",
    "\n",
    "\n",
    "\n",
    "pred = final_bal[[\"Age_Group\"]]\n",
    "x = final_bal.drop(['Age','team_region','player_tag','platform_id','car_name','DOB','advanced_rating','Z_Scores','Age_Group'], axis=1)\n",
    "z = final_bal.iloc[:,2:13]\n",
    "x"
   ]
  },
  {
   "cell_type": "code",
   "execution_count": null,
   "id": "1534d662-b169-437b-a60f-ef1fd93f0630",
   "metadata": {},
   "outputs": [],
   "source": [
    "\n",
    "\n",
    "# Slit the data into a training set and a test set\n",
    "\n",
    "X_train, X_test, y_train, y_test = train_test_split(x, pred, test_size=0.2, random_state=123)\n",
    "\n",
    "#further split the training set into a validation set\n",
    "\n",
    "X_train, X_val, y_train, y_val = train_test_split(X_train, y_train, test_size=0.2, random_state=123)\n",
    "\n",
    "X_train"
   ]
  },
  {
   "cell_type": "code",
   "execution_count": null,
   "id": "cc7df52d-ffd0-40fe-b9c1-4e2de81b474a",
   "metadata": {},
   "outputs": [],
   "source": [
    "# modelling"
   ]
  },
  {
   "cell_type": "code",
   "execution_count": null,
   "id": "c9caf46b-0d0c-4cd3-af07-67d549e30191",
   "metadata": {},
   "outputs": [],
   "source": [
    "# training\n",
    "\n",
    "\n",
    "#support vector machine\n",
    "\n",
    "y_train = np.ravel(y_train) \n",
    "\n",
    "svm_classifier = SVC(kernel='linear')\n",
    "\n",
    "\n",
    "svm_classifier.fit(X_train, y_train)\n",
    "\n",
    "\n",
    "y_pred = svm_classifier.predict(X_test)\n",
    "\n",
    "\n",
    "\n",
    "    \n",
    "def metrics(true, pred):   \n",
    "    acc = accuracy_score(true, pred)\n",
    "    f1 = f1_score(true, pred, average='weighted')  \n",
    "    recall = recall_score(true, pred, average='weighted')  \n",
    "    precision = precision_score(true, pred, average='weighted')  \n",
    "    print('F1 score: ', f1)\n",
    "    print('Accuracy score: ', acc)\n",
    "    print('Recall score: ', recall)\n",
    "    print('Precision score: ', precision)\n",
    "    \n",
    "metrics(y_test, y_pred)\n"
   ]
  },
  {
   "cell_type": "code",
   "execution_count": null,
   "id": "df059222-24c6-4dc0-bbb9-0b7604b22842",
   "metadata": {},
   "outputs": [],
   "source": [
    "\n",
    "\n",
    "frequency_table_SVM = y_test['Age_Group'].value_counts()\n",
    "\n",
    "\n",
    "print(frequency_table_SVM)"
   ]
  },
  {
   "cell_type": "code",
   "execution_count": null,
   "id": "b01b598d-301d-4700-b0e4-5fe90bee6f95",
   "metadata": {},
   "outputs": [],
   "source": [
    "predict = pd.DataFrame(y_pred, columns=['Predicted Age'])\n",
    "\n",
    "frequency_table = predict['Predicted Age'].value_counts()\n",
    "\n",
    "\n",
    "print(frequency_table)"
   ]
  },
  {
   "cell_type": "code",
   "execution_count": null,
   "id": "6fbce23d-d8fe-4502-ac97-93b79cbb4da7",
   "metadata": {},
   "outputs": [],
   "source": []
  },
  {
   "cell_type": "code",
   "execution_count": null,
   "id": "6fd02b17-9b3b-4cff-95c2-9657a07d2cc1",
   "metadata": {},
   "outputs": [],
   "source": [
    "#improve with feature importance\n",
    "pred_2 = final_bal[[\"Age_Group\"]]\n",
    "selected_columns = [\n",
    "    \"movement_count_powerslide\",\n",
    "    \"movement_time_powerslide\",\n",
    "    \"boost_percent_full_boost\",\n",
    "    \"positioning_avg_distance_to_mates\",\n",
    "    \"movement_percent_supersonic_speed\",\n",
    "    \"boost_time_full_boost\",\n",
    "    \"positioning_avg_distance_to_ball_possession\",\n",
    "    \"movement_percent_ground\",\n",
    "    \"boost_amount_used_while_supersonic\",\n",
    "    \"movement_percent_low_air\",\n",
    "    \"positioning_avg_distance_to_ball\",\n",
    "    \"movement_time_supersonic_speed\",\n",
    "    \"boost_percent_zero_boost\",\n",
    "    \"movement_percent_high_air\",\n",
    "    \"movement_percent_boost_speed\",\n",
    "    \"boost_amount_overfill\",\n",
    "    \"movement_time_high_air\",\n",
    "    \"boost_time_zero_boost\",\n",
    "    \"positioning_percent_most_back\",\n",
    "    \"boost_avg_amount\",\n",
    "    \"boost_bpm\",\n",
    "    \"positioning_avg_distance_to_ball_no_possession\",\n",
    "    \"boost_amount_collected_small\",\n",
    "    \"positioning_percent_farthest_from_ball\",\n",
    "    \"boost_percent_boost_75_100\",\n",
    "    \"positioning_percent_closest_to_ball\",\n",
    "    \"boost_bcpm\",\n",
    "    \"boost_percent_boost_25_50\",\n",
    "    \"positioning_percent_most_forward\",\n",
    "    \"movement_time_low_air\",\n",
    "    \"boost_percent_boost_0_25\"\n",
    "]\n",
    "\n",
    "\n",
    "\n",
    "x_2 = final_bal[selected_columns]\n",
    "#x_2 = final_bal.drop(['Age','team_region','player_tag','platform_id','car_name','DOB','advanced_rating','Z_Scores','Age_Group'], axis=1)\n",
    "X_train, X_test, y_train, y_test = train_test_split(x_2, pred_2, test_size=0.2, random_state=123)\n",
    "\n",
    "#further split the training set into a validation set\n",
    "\n",
    "X_train, X_val, y_train, y_val = train_test_split(X_train, y_train, test_size=0.2, random_state=123)\n",
    "X_train\n"
   ]
  },
  {
   "cell_type": "code",
   "execution_count": null,
   "id": "24faea1d-e885-47ac-9212-0f123357475e",
   "metadata": {},
   "outputs": [],
   "source": [
    "#support vector machine\n",
    "\n",
    "y_train = np.ravel(y_train) \n",
    "\n",
    "svm_classifier = SVC(kernel='linear')\n",
    "\n",
    "\n",
    "svm_classifier.fit(X_train, y_train)\n",
    "\n",
    "\n",
    "y_pred = svm_classifier.predict(X_test)\n",
    "\n",
    "\n",
    "\n",
    "metrics(y_test, y_pred)\n",
    "\n",
    "#0.249375 with all features\n",
    "#0.2403125 with 43\n",
    "#0.238 with 31\n",
    "#no improvement"
   ]
  },
  {
   "cell_type": "code",
   "execution_count": null,
   "id": "c3ee7bb3-610b-4b88-986c-8e95cac92f10",
   "metadata": {},
   "outputs": [],
   "source": [
    "#reset data\n",
    "# Slit the data into a training set and a test set\n",
    "\n",
    "X_train, X_test, y_train, y_test = train_test_split(x, pred, test_size=0.2, random_state=123)\n",
    "\n",
    "#further split the training set into a validation set\n",
    "\n",
    "X_train, X_val, y_train, y_val = train_test_split(X_train, y_train, test_size=0.2, random_state=123)\n",
    "\n",
    "X_train"
   ]
  },
  {
   "cell_type": "code",
   "execution_count": null,
   "id": "cd3e246f-f8c7-43e2-9bde-34e42e652233",
   "metadata": {},
   "outputs": [],
   "source": [
    "#improve with hyperparameter tuning\n",
    "\n"
   ]
  },
  {
   "cell_type": "code",
   "execution_count": null,
   "id": "c2cbbcba-f579-429c-8c6f-0f2aa669f203",
   "metadata": {},
   "outputs": [],
   "source": []
  },
  {
   "cell_type": "code",
   "execution_count": null,
   "id": "31eea457-c38b-4e6a-8923-0e0fe0f07537",
   "metadata": {},
   "outputs": [],
   "source": [
    "\n",
    "patch_sklearn()\n",
    "\n",
    "y_train = np.ravel(y_train) \n",
    "\n",
    "svm_classifier = svm.SVC()\n",
    "\n",
    "\n",
    "param_grid = {'C': [0.1, 1, 10, 100], 'kernel': ['linear', 'rbf', 'poly'], 'gamma': [0.1, 0.01, 0.001]}\n",
    "\n",
    "\n",
    "grid_search = GridSearchCV(svm_classifier, param_grid, cv=5, scoring='accuracy', verbose=1)\n",
    "\n",
    "\n",
    "grid_search.fit(X_train, y_train)\n",
    "\n",
    "\n",
    "print(\"Best parameters found: \", grid_search.best_params_)\n",
    "print(\"Best cross-validation accuracy: {:.2f}\".format(grid_search.best_score_))\n",
    "\n",
    "\n",
    "test_accuracy = grid_search.score(X_test, y_test)\n",
    "print(\"Test set accuracy: {:.2f}\".format(test_accuracy))\n"
   ]
  },
  {
   "cell_type": "code",
   "execution_count": null,
   "id": "e14c2240-64b6-4628-8992-0ba8aab04b07",
   "metadata": {},
   "outputs": [],
   "source": [
    "metrics(y_test, y_pred)"
   ]
  },
  {
   "cell_type": "code",
   "execution_count": null,
   "id": "ef8a7173-deb7-400f-8b9e-1fc8c3756fea",
   "metadata": {},
   "outputs": [],
   "source": [
    "\n",
    "best_svm_classifier = svm.SVC(C=100, gamma=0.1, kernel='poly')\n",
    "\n",
    "\n",
    "best_svm_classifier.fit(X_train, y_train)\n",
    "\n",
    "\n",
    "y_pred = best_svm_classifier.predict(X_test)\n",
    "\n",
    "\n",
    "accuracy = accuracy_score(y_test, y_pred)\n",
    "print(f\"Accuracy: {accuracy}\")\n",
    "\n",
    "\n",
    "metrics(y_test, y_pred) "
   ]
  },
  {
   "cell_type": "code",
   "execution_count": null,
   "id": "6dddc45d-bbef-417f-a0d5-5132fd72ec33",
   "metadata": {},
   "outputs": [],
   "source": []
  },
  {
   "cell_type": "code",
   "execution_count": null,
   "id": "7aa9e6cb-078c-4dba-a80b-ec4eb789d4d6",
   "metadata": {},
   "outputs": [],
   "source": [
    "#reset data\n",
    "# Slit the data into a training set and a test set\n",
    "\n",
    "X_train, X_test, y_train, y_test = train_test_split(x, pred, test_size=0.2, random_state=123)\n",
    "\n",
    "#further split the training set into a validation set\n",
    "\n",
    "X_train, X_val, y_train, y_val = train_test_split(X_train, y_train, test_size=0.2, random_state=123)\n",
    "\n",
    "X_train"
   ]
  },
  {
   "cell_type": "code",
   "execution_count": null,
   "id": "045143eb-89d4-4519-8743-6de52e2fc419",
   "metadata": {
    "tags": []
   },
   "outputs": [],
   "source": [
    "#naive base\n",
    "y_train = np.ravel(y_train) \n",
    "gnb = GaussianNB()\n",
    "\n",
    "\n",
    "gnb.fit(X_train, y_train)\n",
    "\n",
    "\n",
    "y_pred = gnb.predict(X_test)\n",
    "metrics(y_test, y_pred)"
   ]
  },
  {
   "cell_type": "code",
   "execution_count": null,
   "id": "3cd4959e-2ad5-4320-8da9-56fe3b29acf1",
   "metadata": {},
   "outputs": [],
   "source": [
    "nb_scores = cross_val_score(gnb, x, pred, cv=10)  \n",
    "\n",
    "print('Cross-Validation Scores:', nb_scores)\n",
    "print('Mean Accuracy:', nb_scores.mean())"
   ]
  },
  {
   "cell_type": "code",
   "execution_count": null,
   "id": "01d180bd-54e2-47a5-a8dd-e079e0eecf0b",
   "metadata": {
    "tags": []
   },
   "outputs": [],
   "source": [
    "# improve with hyperparameter tuning\n",
    "\n",
    "gnb = GaussianNB()\n",
    "\n",
    "\n",
    "param_grid = {\n",
    "    'var_smoothing': [1e-9, 1e-8, 1e-7, 1e-6, 1e-5],  \n",
    "    'priors': [None, [0.25, 0.25, 0.5], [0.2, 0.3, 0.5]]  \n",
    "\n",
    "}\n",
    "\n",
    "param_grid = {'var_smoothing': np.logspace(0,-9, num=100)\n",
    "             }\n",
    "\n",
    "\n",
    "grid_search = GridSearchCV(gnb, param_grid, cv=5)\n",
    "grid_search.fit(X_train, y_train)\n",
    "\n",
    "y_pred = grid_search.predict(X_test)\n",
    "metrics(y_test, y_pred)"
   ]
  },
  {
   "cell_type": "code",
   "execution_count": null,
   "id": "a6c4cea6-c735-4e42-8c1c-955629c195fc",
   "metadata": {},
   "outputs": [],
   "source": [
    "pd.reset_option('display.max_rows')\n",
    "\n",
    "pred_2 = final_bal[[\"Age_Group\"]]\n",
    "selected_columns = [\n",
    "    \"movement_count_powerslide\",\n",
    "    \"movement_time_powerslide\",\n",
    "    \"boost_percent_full_boost\",\n",
    "    \"positioning_avg_distance_to_mates\",\n",
    "    \"movement_percent_supersonic_speed\",\n",
    "    \"boost_time_full_boost\",\n",
    "    \"positioning_avg_distance_to_ball_possession\",\n",
    "    \"movement_percent_ground\",\n",
    "    \"boost_amount_used_while_supersonic\",\n",
    "    \"movement_percent_low_air\",\n",
    "    \"positioning_avg_distance_to_ball\",\n",
    "    \"movement_time_supersonic_speed\",\n",
    "    \"boost_percent_zero_boost\",\n",
    "    \"movement_percent_high_air\",\n",
    "    \"movement_percent_boost_speed\",\n",
    "    \"boost_amount_overfill\",\n",
    "    \"movement_time_high_air\",\n",
    "    \"boost_time_zero_boost\",\n",
    "    \"positioning_percent_most_back\",\n",
    "    \"boost_avg_amount\",\n",
    "    \"boost_bpm\",\n",
    "    \"positioning_avg_distance_to_ball_no_possession\",\n",
    "    \"boost_amount_collected_small\",\n",
    "    \"positioning_percent_farthest_from_ball\",\n",
    "    \"boost_percent_boost_75_100\",\n",
    "    \"positioning_percent_closest_to_ball\",\n",
    "    \"boost_bcpm\",\n",
    "    \"boost_percent_boost_25_50\",\n",
    "    \"positioning_percent_most_forward\",\n",
    "    \"movement_time_low_air\",\n",
    "    \"boost_percent_boost_0_25\",\n",
    "    \"boost_time_boost_75_100\",\n",
    "    \"movement_avg_powerslide_duration\",\n",
    "    \"core_score\",\n",
    "    \"boost_percent_boost_50_75\",\n",
    "    \"movement_time_ground\",\n",
    "    \"movement_percent_slow_speed\",\n",
    "    \"positioning_percent_neutral_third\",\n",
    "    \"boost_time_boost_50_75\",\n",
    "    \"positioning_time_most_back\",\n",
    "    \"positioning_time_farthest_from_ball\",\n",
    "    \"boost_amount_stolen_small\",\n",
    "    \"movement_time_boost_speed\"\n",
    "]\n",
    "\n",
    "\n",
    "\n",
    "x_2 = final_bal[selected_columns]\n",
    "#x_2 = final_bal.drop(['Age','team_region','player_tag','platform_id','car_name','DOB','advanced_rating','Z_Scores','Age_Group'], axis=1)\n",
    "X_train, X_test, y_train, y_test = train_test_split(x_2, pred_2, test_size=0.2, random_state=123)\n",
    "\n",
    "#further split the training set into a validation set\n",
    "\n",
    "X_train, X_val, y_train, y_val = train_test_split(X_train, y_train, test_size=0.2, random_state=123)\n",
    "X_train\n",
    "\n",
    "\n"
   ]
  },
  {
   "cell_type": "code",
   "execution_count": null,
   "id": "91b67162-4eeb-47e3-9f90-dc29633d7e7f",
   "metadata": {},
   "outputs": [],
   "source": [
    "#improve with feature importance\n",
    "y_train = np.ravel(y_train) \n",
    "gnb = GaussianNB()\n",
    "\n",
    "\n",
    "gnb.fit(X_train, y_train)\n",
    "\n",
    "\n",
    "y_pred = gnb.predict(X_test)\n",
    "metrics(y_test, y_pred)\n",
    "\n",
    "#0.2253125 with 43"
   ]
  },
  {
   "cell_type": "code",
   "execution_count": null,
   "id": "ee814797-2f1c-41ed-9d38-01a186517664",
   "metadata": {},
   "outputs": [],
   "source": [
    "\n",
    "gnb = GaussianNB()\n",
    "y_train = np.ravel(y_train) \n",
    "\n",
    "param_grid = {\n",
    "    'var_smoothing': [1e-9, 1e-8, 1e-7, 1e-6, 1e-5],  \n",
    "    'priors': [None, [0.25, 0.25, 0.5], [0.2, 0.3, 0.5]]  \n",
    "\n",
    "}\n",
    "\n",
    "param_grid = {'var_smoothing': np.logspace(0,-9, num=100)\n",
    "             }\n",
    "\n",
    "\n",
    "grid_search = GridSearchCV(gnb, param_grid, cv=5)\n",
    "grid_search.fit(X_train, y_train)\n",
    "\n",
    "y_pred = grid_search.predict(X_test)\n",
    "metrics(y_test, y_pred)"
   ]
  },
  {
   "cell_type": "code",
   "execution_count": null,
   "id": "0fac8efd-f6f1-4eaf-9abb-e2d491d71750",
   "metadata": {},
   "outputs": [],
   "source": [
    "ConfusionMatrixDisplay.from_predictions(y_test, y_pred, cmap='Blues')\n",
    "plt.show()"
   ]
  },
  {
   "cell_type": "code",
   "execution_count": null,
   "id": "a1718b77-13bb-460c-b6b6-11014a42542e",
   "metadata": {},
   "outputs": [],
   "source": []
  },
  {
   "cell_type": "code",
   "execution_count": null,
   "id": "b3f4b186-eafe-453d-835b-856d2c2587ba",
   "metadata": {},
   "outputs": [],
   "source": []
  },
  {
   "cell_type": "code",
   "execution_count": null,
   "id": "7d40438e-ba82-4492-9eb1-bbfc7b17ec95",
   "metadata": {},
   "outputs": [],
   "source": [
    "\n",
    "#reset data\n",
    "# Slit the data into a training set and a test set\n",
    "\n",
    "X_train, X_test, y_train, y_test = train_test_split(x, pred, test_size=0.2, random_state=123)\n",
    "\n",
    "#further split the training set into a validation set\n",
    "\n",
    "X_train, X_val, y_train, y_val = train_test_split(X_train, y_train, test_size=0.2, random_state=123)\n",
    "\n",
    "X_train\n",
    "\n",
    "\n",
    "\n"
   ]
  },
  {
   "cell_type": "code",
   "execution_count": null,
   "id": "2a10b824-4820-4067-8f37-13b89eaa51a3",
   "metadata": {},
   "outputs": [],
   "source": [
    "# Logstic regression\n",
    "from sklearn.linear_model import LogisticRegression\n",
    "y_train = np.ravel(y_train) \n",
    "\n",
    "log_reg = LogisticRegression(n_jobs=-1)\n",
    "\n",
    "\n",
    "log_reg.fit(X_train, y_train)\n",
    "\n",
    "\n",
    "y_pred = log_reg.predict(X_test)\n",
    "metrics(y_test, y_pred)\n"
   ]
  },
  {
   "cell_type": "code",
   "execution_count": null,
   "id": "0758361b-cab7-45a6-9de9-0992e7aa796b",
   "metadata": {
    "tags": []
   },
   "outputs": [],
   "source": [
    "#0.245 with all features\n",
    "#0.2367 with 43 features"
   ]
  },
  {
   "cell_type": "code",
   "execution_count": null,
   "id": "aa2d080a-b583-4485-b0a0-00849b29791f",
   "metadata": {},
   "outputs": [],
   "source": []
  },
  {
   "cell_type": "code",
   "execution_count": null,
   "id": "51f0079d-7e0d-4d3a-b275-3f4d15a051aa",
   "metadata": {
    "tags": []
   },
   "outputs": [],
   "source": [
    "logreg = LogisticRegression()\n",
    "\n",
    "\n",
    "param_grid = {\n",
    "    'C': [0.1, 1.0, 5.0, 10.0,20.0], \n",
    "    'solver': ['liblinear', 'saga'], \n",
    "    'penalty': ['l1', 'l2'], \n",
    "    'max_iter': [1000] \n",
    "}\n",
    "\n",
    "\n",
    "\n",
    "y_train = np.ravel(y_train)\n",
    "grid_search = GridSearchCV(logreg, param_grid, cv=5)\n",
    "grid_search.fit(X_train, y_train)\n",
    "\n",
    "\n",
    "grid_search.best_estimator_\n",
    "\n",
    "\n",
    "\n",
    "\n",
    "y_pred = grid_search.predict(X_test) \n",
    "\n",
    "\n",
    "metrics(y_test, y_pred)"
   ]
  },
  {
   "cell_type": "code",
   "execution_count": null,
   "id": "7bafc027-83fb-4c1d-95a4-efd6e4463e5c",
   "metadata": {},
   "outputs": [],
   "source": [
    "X_train"
   ]
  },
  {
   "cell_type": "code",
   "execution_count": null,
   "id": "a7c9b909-0a76-444e-b16b-0ceb0e64a2e4",
   "metadata": {},
   "outputs": [],
   "source": [
    "# random forest\n",
    "y_train = np.ravel(y_train) \n",
    "rf_classifier = RandomForestClassifier(n_estimators=100, random_state=42,n_jobs=-1)\n",
    "rf_classifier.fit(X_train, y_train)\n",
    "y_pred = rf_classifier.predict(X_test)\n",
    "\n",
    "metrics(y_test, y_pred)\n",
    "\n",
    "#0.31222607444233663 unbalanced\n",
    "#0.31 balanced\n"
   ]
  },
  {
   "cell_type": "code",
   "execution_count": null,
   "id": "b0aa17d0-a7b2-4b5a-9e66-4ff904f85feb",
   "metadata": {},
   "outputs": [],
   "source": [
    "predict = pd.DataFrame(y_pred, columns=['Predicted Age'])\n",
    "\n",
    "frequency_table = predict['Predicted Age'].value_counts()\n",
    "\n",
    "\n",
    "print(frequency_table)"
   ]
  },
  {
   "cell_type": "code",
   "execution_count": null,
   "id": "52a5daa2-a81d-4472-9d92-56c815220083",
   "metadata": {},
   "outputs": [],
   "source": []
  },
  {
   "cell_type": "code",
   "execution_count": null,
   "id": "14ef6dd4-b54b-49b2-9f52-4df43198bc8d",
   "metadata": {},
   "outputs": [],
   "source": []
  },
  {
   "cell_type": "code",
   "execution_count": null,
   "id": "9459ec5e-feed-41ca-a94b-9ab126f10ba5",
   "metadata": {},
   "outputs": [],
   "source": [
    "#Improve with feature importance"
   ]
  },
  {
   "cell_type": "code",
   "execution_count": null,
   "id": "7eaa6a24-61bf-4ef9-87a3-8e8f8e5f5847",
   "metadata": {},
   "outputs": [],
   "source": [
    "# Retrieve feature importances\n",
    "feature_importance = pd.Series(rf_classifier.feature_importances_, index=X_train.columns).sort_values(ascending=False)\n",
    "pd.set_option('display.max_rows', None)\n",
    "\n",
    "print(feature_importance)"
   ]
  },
  {
   "cell_type": "code",
   "execution_count": null,
   "id": "3876b53b-57dc-4da1-a876-43387fe34d87",
   "metadata": {},
   "outputs": [],
   "source": [
    "pd.reset_option('display.max_rows')\n",
    "\n",
    "pred_2 = final_bal[[\"Age_Group\"]]\n",
    "selected_columns = [\n",
    "\n",
    "    \"movement_count_powerslide\",\n",
    "    \"movement_time_powerslide\",\n",
    "    \"boost_percent_full_boost\",\n",
    "    \"positioning_avg_distance_to_mates\",\n",
    "    \"movement_percent_supersonic_speed\",\n",
    "    \"boost_time_full_boost\",\n",
    "    \"positioning_avg_distance_to_ball_possession\",\n",
    "    \"movement_percent_ground\",\n",
    "    \"boost_amount_used_while_supersonic\",\n",
    "    \"movement_percent_low_air\",\n",
    "    \"positioning_avg_distance_to_ball\",\n",
    "    \"movement_time_supersonic_speed\",\n",
    "    \"boost_percent_zero_boost\",\n",
    "    \"movement_percent_high_air\",\n",
    "    \"movement_percent_boost_speed\",\n",
    "    \"boost_amount_overfill\",\n",
    "    \"movement_time_high_air\",\n",
    "    \"boost_time_zero_boost\",\n",
    "    \"positioning_percent_most_back\",\n",
    "    \"boost_avg_amount\",\n",
    "    \"boost_bpm\",\n",
    "    \"positioning_avg_distance_to_ball_no_possession\",\n",
    "    \"boost_amount_collected_small\",\n",
    "    \"positioning_percent_farthest_from_ball\",\n",
    "    \"boost_percent_boost_75_100\",\n",
    "    \"positioning_percent_closest_to_ball\",\n",
    "    \"boost_bcpm\",\n",
    "    \"boost_percent_boost_25_50\",\n",
    "    \"positioning_percent_most_forward\",\n",
    "    \"movement_time_low_air\",\n",
    "    \"boost_percent_boost_0_25\",\n",
    "    \"boost_time_boost_75_100\",\n",
    "    \"movement_avg_powerslide_duration\",\n",
    "    \"core_score\",\n",
    "    \"boost_percent_boost_50_75\",\n",
    "    \"movement_time_ground\",\n",
    "    \"movement_percent_slow_speed\",\n",
    "    \"positioning_percent_neutral_third\",\n",
    "    \"boost_time_boost_50_75\",\n",
    "    \"positioning_time_most_back\",\n",
    "    \"positioning_time_farthest_from_ball\",\n",
    "    \"boost_amount_stolen_small\",\n",
    "    \"movement_time_boost_speed\",\n",
    "    \"positioning_percent_in_front_ball\"\n",
    "]\n",
    "\n",
    "\n",
    "\n",
    "x_2 = final_bal[selected_columns]\n",
    "#x_2 = final_bal.drop(['Age','team_region','player_tag','platform_id','car_name','DOB','advanced_rating','Z_Scores','Age_Group'], axis=1)\n",
    "X_train, X_test, y_train, y_test = train_test_split(x_2, pred_2, test_size=0.2, random_state=123)\n",
    "\n",
    "#further split the training set into a validation set\n",
    "\n",
    "X_train, X_val, y_train, y_val = train_test_split(X_train, y_train, test_size=0.2, random_state=123)\n",
    "x_2"
   ]
  },
  {
   "cell_type": "code",
   "execution_count": null,
   "id": "53a0a876-dfd9-4bd3-8e89-2512f106aa69",
   "metadata": {},
   "outputs": [],
   "source": [
    "y_train = np.ravel(y_train) \n",
    "\n",
    "\n",
    "rf_classifier = RandomForestClassifier(n_estimators=100, random_state=42, n_jobs=-1)\n",
    "\n",
    "\n",
    "rf_classifier.fit(X_train, y_train)\n",
    "\n",
    "\n",
    "y_pred = rf_classifier.predict(X_val)\n",
    "\n",
    "metrics(y_val, y_pred)\n",
    "\n",
    "#0.328125 with 43\n",
    "#0.3226041666666667 with 47\n",
    "#0.30645833333333333 with 25\n",
    "#0.2833333333333333 with 13\n",
    "#0.2184375 with 5\n",
    "\n",
    "\n",
    "\n",
    "#0.3104166666666667 with 84\n",
    "#0.3120833333333333 with 74\n",
    "#0.31333333333333335 with 64\n",
    "#0.314375 with 54\n",
    "#0.322265625 with 44\n",
    "#0.3196875 with 34\n",
    "#0.30114583333333333 with 24\n",
    "#0.2759375 with 14\n",
    "#0.185 with 4\n"
   ]
  },
  {
   "cell_type": "code",
   "execution_count": null,
   "id": "4805c5d2-4445-4162-9826-c51a9316358f",
   "metadata": {},
   "outputs": [],
   "source": []
  },
  {
   "cell_type": "code",
   "execution_count": null,
   "id": "0a104d1f-134d-47b4-9a0e-7206719ddb4b",
   "metadata": {},
   "outputs": [],
   "source": [
    "\n",
    "\n",
    "data = {\n",
    "    84: 0.3104166666666667,\n",
    "    74: 0.3120833333333333,\n",
    "    64: 0.31333333333333335,\n",
    "    54: 0.314375,\n",
    "    44: 0.32229166666666664,\n",
    "    34: 0.3196875,\n",
    "    24: 0.30114583333333333,\n",
    "    14: 0.2759375,\n",
    "    4: 0.185\n",
    "}\n",
    "\n",
    "x_values = list(data.keys())\n",
    "y_values = list(data.values())\n",
    "\n",
    "plt.plot(x_values, y_values, marker='o')\n",
    "plt.xlabel('Number of features')\n",
    "plt.ylabel('Accuracy score')\n",
    "plt.title('Change in accuracy score')\n",
    "plt.show()"
   ]
  },
  {
   "cell_type": "code",
   "execution_count": null,
   "id": "b1679bf5-2033-4ea9-b99a-1b53bb8be9fe",
   "metadata": {},
   "outputs": [],
   "source": []
  },
  {
   "cell_type": "code",
   "execution_count": null,
   "id": "1c192e58-3a2a-4d13-9728-abc5f0541abe",
   "metadata": {},
   "outputs": [],
   "source": []
  },
  {
   "cell_type": "code",
   "execution_count": null,
   "id": "586fcd52-cad4-4dff-8c11-ceede9ca7e87",
   "metadata": {
    "tags": []
   },
   "outputs": [],
   "source": [
    "\n"
   ]
  },
  {
   "cell_type": "code",
   "execution_count": null,
   "id": "ac34bdc6-f62d-4054-96c8-695a465ef4a6",
   "metadata": {},
   "outputs": [],
   "source": []
  },
  {
   "cell_type": "code",
   "execution_count": null,
   "id": "023d0f0c-d6ae-459f-92a7-6f7dfaebb50c",
   "metadata": {},
   "outputs": [],
   "source": []
  },
  {
   "cell_type": "code",
   "execution_count": null,
   "id": "9ef4379f-8f57-49ac-883a-6a5f445c3b2e",
   "metadata": {},
   "outputs": [],
   "source": []
  },
  {
   "cell_type": "code",
   "execution_count": null,
   "id": "d6551ef3-da1c-48e8-91a4-f27c55bcf5fc",
   "metadata": {},
   "outputs": [],
   "source": [
    "X_train"
   ]
  },
  {
   "cell_type": "code",
   "execution_count": null,
   "id": "ae97b55a-4cb4-4345-9e12-36f42005d2ff",
   "metadata": {},
   "outputs": [],
   "source": [
    "#improve with crossvalidation"
   ]
  },
  {
   "cell_type": "code",
   "execution_count": null,
   "id": "c9ffab1a-3f38-4cf3-b4ca-2f2ccfcf31ef",
   "metadata": {
    "tags": []
   },
   "outputs": [],
   "source": [
    "#run hyperparamter with more setting for longer loading time\n",
    "y_train = np.ravel(y_train)\n",
    "rf_classifier = RandomForestClassifier(n_jobs=-1)\n",
    "\n",
    "param_grid = {\n",
    "    'n_estimators': [50, 100, 300, 400],\n",
    "    'max_depth': [None, 1,3, 5, 10, 20],\n",
    "    'min_samples_split': [1,2, 5, 10,15],\n",
    "    'min_samples_leaf': [1, 2, 4, 6,10]\n",
    "}\n",
    "\n",
    "grid_search = GridSearchCV(estimator=rf_classifier, param_grid=param_grid, cv=5)\n",
    "grid_search.fit(X_train, y_train)\n",
    "\n",
    "best_params = grid_search.best_params_\n",
    "best_score = grid_search.best_score_\n",
    "\n",
    "print(\"Best Parameters:\", best_params)\n",
    "print(\"Best Score:\", best_score)\n",
    "\n",
    "\n",
    "y_pred = grid_search.predict(X_val) \n",
    "\n",
    "\n",
    "metrics(y_val, y_pred) "
   ]
  },
  {
   "cell_type": "code",
   "execution_count": null,
   "id": "a601de50-d9d3-4144-a165-180375123048",
   "metadata": {},
   "outputs": [],
   "source": [
    "#Best Parameters: {'max_depth': 20, 'min_samples_leaf': 2, 'min_samples_split': 5, 'n_estimators': 1000}\n",
    "#Best Score: 0.3330729166666667\n",
    "#F1 score:  0.3408738894105582\n",
    "#Accuracy score:  0.34625\n",
    "#Recall score:  0.34625\n",
    "#Precision score:  0.34338759255193935"
   ]
  },
  {
   "cell_type": "code",
   "execution_count": null,
   "id": "c413cea0-1778-4138-afea-2e8f95a51e91",
   "metadata": {},
   "outputs": [],
   "source": [
    "params = {'max_depth': None, 'min_samples_leaf': 1, 'min_samples_split': 2, 'n_estimators': 1000}\n",
    "y_train = np.ravel(y_train) \n",
    "\n",
    "rf_classifier = RandomForestClassifier(max_depth=params['max_depth'],\n",
    "                                      min_samples_leaf=params['min_samples_leaf'],\n",
    "                                      min_samples_split=params['min_samples_split'],\n",
    "                                      n_estimators=params['n_estimators'] , n_jobs=-1,random_state=42)\n",
    "\n",
    "rf_classifier.fit(X_train, y_train)\n",
    "\n",
    "y_pred = rf_classifier.predict(X_test) \n",
    "\n",
    "\n",
    "metrics(y_test, y_pred) "
   ]
  },
  {
   "cell_type": "code",
   "execution_count": null,
   "id": "9299d3ff-2c9e-40ed-9341-6272de3e7d6a",
   "metadata": {},
   "outputs": [],
   "source": [
    "\n",
    "rf_scores = cross_val_score(rf_classifier, x_2, pred_2, cv=10) \n",
    "\n",
    "\n"
   ]
  },
  {
   "cell_type": "code",
   "execution_count": null,
   "id": "1e462862-db41-4bdf-b508-bf98e2df67e8",
   "metadata": {},
   "outputs": [],
   "source": [
    "\n",
    "\n",
    "print('Cross-Validation Scores:', rf_scores)\n",
    "print('Mean Accuracy:', rf_scores.mean())\n",
    "print('Standard Deviation:', np.std(rf_scores))"
   ]
  },
  {
   "cell_type": "code",
   "execution_count": null,
   "id": "86efb75f-78d6-490d-bdb9-84ff0b99667a",
   "metadata": {},
   "outputs": [],
   "source": [
    "ConfusionMatrixDisplay.from_predictions(y_test, y_pred, cmap='Blues')\n",
    "plt.show()"
   ]
  },
  {
   "cell_type": "code",
   "execution_count": null,
   "id": "2c24b3d8-7064-4c0a-812e-264a2dee98c4",
   "metadata": {},
   "outputs": [],
   "source": [
    "frequency_table = y_test['Age_Group'].value_counts()\n",
    "\n",
    "\n",
    "print(frequency_table)"
   ]
  },
  {
   "cell_type": "code",
   "execution_count": null,
   "id": "92db52c1-7d67-4e73-8f44-b93592279e49",
   "metadata": {},
   "outputs": [],
   "source": []
  },
  {
   "cell_type": "code",
   "execution_count": null,
   "id": "ee14e095-e9f4-4d58-ade4-b7b3f741b984",
   "metadata": {},
   "outputs": [],
   "source": [
    "X_val"
   ]
  },
  {
   "cell_type": "code",
   "execution_count": null,
   "id": "5267aa1b-215d-4003-8a9f-976ff887994f",
   "metadata": {},
   "outputs": [],
   "source": []
  },
  {
   "cell_type": "code",
   "execution_count": null,
   "id": "bec68d27-ee1f-4d34-b8f0-dacd09b77984",
   "metadata": {},
   "outputs": [],
   "source": []
  },
  {
   "cell_type": "code",
   "execution_count": null,
   "id": "6a32d769-48ec-485c-b617-33d2dee6962d",
   "metadata": {},
   "outputs": [],
   "source": []
  },
  {
   "cell_type": "code",
   "execution_count": null,
   "id": "fdafc6a0-28c2-4ba4-8d2b-4635062ca3eb",
   "metadata": {},
   "outputs": [],
   "source": []
  },
  {
   "cell_type": "code",
   "execution_count": null,
   "id": "0554bca5-d2c6-49a0-8850-0cc235d94465",
   "metadata": {},
   "outputs": [],
   "source": []
  },
  {
   "cell_type": "code",
   "execution_count": null,
   "id": "9de68f0c-b5d7-470b-81bc-db1385ebff57",
   "metadata": {},
   "outputs": [],
   "source": []
  },
  {
   "cell_type": "code",
   "execution_count": null,
   "id": "264392e1-eecc-4025-8299-ed110b7c6dbd",
   "metadata": {},
   "outputs": [],
   "source": []
  },
  {
   "cell_type": "code",
   "execution_count": null,
   "id": "83e5cd44-a057-4a7a-a8b4-2a9d4d784512",
   "metadata": {},
   "outputs": [],
   "source": []
  },
  {
   "cell_type": "code",
   "execution_count": null,
   "id": "64018816-5908-4e6e-aa7a-18a5d1c14b0f",
   "metadata": {},
   "outputs": [],
   "source": [
    "#multiclass classification"
   ]
  },
  {
   "cell_type": "code",
   "execution_count": null,
   "id": "248f6fd0-8460-4748-8d9f-728101d710c8",
   "metadata": {
    "tags": []
   },
   "outputs": [],
   "source": [
    "frequency_table2 = final_df['Age'].value_counts()\n",
    "frequency_table2 = frequency_table2.sort_index()\n",
    "print(frequency_table2)"
   ]
  },
  {
   "cell_type": "code",
   "execution_count": null,
   "id": "3f397fc2-22f6-4f08-9127-3514cb2e82a5",
   "metadata": {},
   "outputs": [],
   "source": [
    "final_binary = final_df.copy()\n",
    "\n",
    "final_binary['DOB'] = pd.to_datetime(final_binary['DOB'])\n",
    "\n",
    "\n",
    "reference_date = pd.to_datetime('2022-10-01')\n",
    "\n",
    "\n",
    "final_binary['Age'] = final_binary['DOB'].apply(lambda x: relativedelta(reference_date, x).years + round(relativedelta(reference_date, x).months / 12, 1))\n"
   ]
  },
  {
   "cell_type": "code",
   "execution_count": null,
   "id": "846bf0a2-849d-4604-98da-4e3c06e0bad8",
   "metadata": {
    "tags": []
   },
   "outputs": [],
   "source": [
    "\n",
    "\n",
    "\n",
    "#frequency_table3 = final_binary['Age'].value_counts()\n",
    "#frequency_table3 = frequency_table3.sort_index()\n",
    "\n",
    "#frequency_table3.to_excel('frequency_table3.xlsx', index_label='Age')\n",
    "\n",
    "#print(frequency_table3)"
   ]
  },
  {
   "cell_type": "code",
   "execution_count": null,
   "id": "52daceaf-7450-423d-8cd8-43c8d9214b7c",
   "metadata": {
    "tags": []
   },
   "outputs": [],
   "source": [
    "#make the problem binary classification: 15:19 and 20:31\n",
    "#which are 43810 and 32622 values\n",
    "\n",
    "#now better with 15:19.7 and 19.8:31.2\n",
    "#which are 38323 and 18109\n",
    "\n",
    "def categorize_age(age):\n",
    "    if age >= 15 and age <= 19.7:\n",
    "        return 'young'\n",
    "    elif age >= 19.8 and age <= 31.2:\n",
    "        return 'old'\n",
    "    else:\n",
    "        return 'unknown'\n",
    "\n",
    "\n",
    "\n",
    "#'1-10-2022'\n",
    "\n",
    "\n",
    "\n",
    "final_binary['Age_Category'] = final_binary['Age'].apply(categorize_age)\n",
    "\n",
    "\n",
    "frequency_table3 = final_binary['Age_Category'].value_counts()\n",
    "frequency_table3 = frequency_table3.sort_index()\n",
    "\n",
    "print(frequency_table3)\n",
    "\n",
    "\n"
   ]
  },
  {
   "cell_type": "code",
   "execution_count": null,
   "id": "b98888ff-76ff-4ec7-b5ab-6ded6152963b",
   "metadata": {},
   "outputs": [],
   "source": [
    "final_binary"
   ]
  },
  {
   "cell_type": "code",
   "execution_count": null,
   "id": "7eb815d3-f686-40f3-89d4-f65722ba18d0",
   "metadata": {},
   "outputs": [],
   "source": []
  },
  {
   "cell_type": "code",
   "execution_count": null,
   "id": "b4e81fbc-a702-4b19-a9d8-f743e1502672",
   "metadata": {},
   "outputs": [],
   "source": []
  },
  {
   "cell_type": "code",
   "execution_count": null,
   "id": "719e7294-9106-41a8-a2ec-bb1aa978ddc4",
   "metadata": {},
   "outputs": [],
   "source": []
  },
  {
   "cell_type": "code",
   "execution_count": null,
   "id": "67f65ae0-fe80-4b3e-8d85-fe3eee933345",
   "metadata": {},
   "outputs": [],
   "source": []
  },
  {
   "cell_type": "code",
   "execution_count": null,
   "id": "cd5ef541-612a-4319-92cc-491bf2acfb34",
   "metadata": {},
   "outputs": [],
   "source": [
    "#new model with the binary predicted values\n",
    "\n",
    "pred_bin = final_binary[[\"Age_Category\"]]\n",
    "x_bin = final_binary.drop(['Age','Age_Category','team_region','player_tag','platform_id','car_name','DOB','advanced_rating','Z_Scores'], axis=1)\n",
    "\n",
    "X_train, X_test, y_train, y_test = train_test_split(x_bin, pred_bin, test_size=0.2, random_state=123)\n",
    "\n",
    "#further split the training set into a validation set\n",
    "\n",
    "X_train, X_val, y_train, y_val = train_test_split(X_train, y_train, test_size=0.2, random_state=123)\n",
    "x_bin"
   ]
  },
  {
   "cell_type": "code",
   "execution_count": null,
   "id": "1cc9426b-e64c-497a-9de1-312bc05dee4d",
   "metadata": {},
   "outputs": [],
   "source": [
    "frequency_table_x = y_test['Age_Category'].value_counts()\n",
    "frequency_table_x = frequency_table_x.sort_index()\n",
    "\n",
    "\n",
    "\n",
    "print(frequency_table_x)"
   ]
  },
  {
   "cell_type": "code",
   "execution_count": null,
   "id": "fe34773d-fbd0-40a7-a9da-7271c8ae2279",
   "metadata": {},
   "outputs": [],
   "source": []
  },
  {
   "cell_type": "code",
   "execution_count": null,
   "id": "e096bc95-bcb2-45f6-8ed5-30ca03688e05",
   "metadata": {},
   "outputs": [],
   "source": [
    "#modeling"
   ]
  },
  {
   "cell_type": "code",
   "execution_count": null,
   "id": "bc5ac960-58cb-4afe-b553-6b5146dd2348",
   "metadata": {},
   "outputs": [],
   "source": []
  },
  {
   "cell_type": "code",
   "execution_count": null,
   "id": "07a27ef7-a4d5-453e-9871-2a857c58d000",
   "metadata": {},
   "outputs": [],
   "source": [
    "#logistic regression\n",
    "y_train = np.ravel(y_train) \n",
    "\n",
    "log_reg = LogisticRegression(n_jobs=-1)\n",
    "\n",
    "\n",
    "log_reg.fit(X_train, y_train)\n",
    "\n",
    "\n",
    "y_pred = log_reg.predict(X_test)\n",
    "metrics(y_test, y_pred)"
   ]
  },
  {
   "cell_type": "code",
   "execution_count": null,
   "id": "ed0cf5ff-94b4-4acc-ba21-e7f0dbecaee3",
   "metadata": {},
   "outputs": [],
   "source": [
    "#feature importance\n",
    "\n",
    "pd.reset_option('display.max_rows')\n",
    "\n",
    "pred_2 = final_binary[[\"Age_Category\"]]\n",
    "selected_columns = selected_columns =selected_columns = [\n",
    "    'movement_count_powerslide',\n",
    "    'movement_percent_supersonic_speed',\n",
    "    'movement_time_powerslide',\n",
    "    'movement_time_supersonic_speed',\n",
    "    'positioning_avg_distance_to_ball_possession',\n",
    "    'movement_avg_powerslide_duration',\n",
    "    'boost_percent_full_boost',\n",
    "    'boost_amount_used_while_supersonic',\n",
    "    'positioning_avg_distance_to_ball',\n",
    "    'boost_time_full_boost',\n",
    "    'movement_percent_boost_speed',\n",
    "    'positioning_avg_distance_to_mates',\n",
    "    'movement_percent_ground',\n",
    "    'movement_percent_high_air',\n",
    "    'positioning_avg_distance_to_ball_no_possession',\n",
    "    'positioning_percent_most_back',\n",
    "    'boost_bpm',\n",
    "    'movement_time_high_air',\n",
    "    'movement_percent_low_air',\n",
    "    'boost_percent_boost_75_100',\n",
    "    'boost_amount_overfill',\n",
    "    'positioning_percent_closest_to_ball',\n",
    "    'positioning_percent_farthest_from_ball',\n",
    "    'boost_bcpm',\n",
    "    'boost_avg_amount',\n",
    "    'movement_time_boost_speed',\n",
    "    'boost_amount_collected_small',\n",
    "    'positioning_percent_most_forward',\n",
    "    'boost_time_boost_75_100',\n",
    "    'boost_percent_zero_boost',\n",
    "    'positioning_percent_neutral_third',\n",
    "    'core_score',\n",
    "    'boost_percent_boost_25_50',\n",
    "    'boost_time_zero_boost',\n",
    "    'movement_time_ground',\n",
    "    'boost_percent_boost_50_75',\n",
    "    'boost_time_boost_25_50',\n",
    "    'positioning_time_most_back',\n",
    "    'movement_time_low_air',\n",
    "    'boost_time_boost_50_75',\n",
    "    'movement_percent_slow_speed',\n",
    "    'boost_time_boost_0_25',\n",
    "    'positioning_time_neutral_third',\n",
    "    'positioning_time_most_forward',\n",
    "    'positioning_time_farthest_from_ball',\n",
    "    'positioning_percent_behind_ball',\n",
    "    'boost_percent_boost_0_25',\n",
    "    'movement_avg_speed',\n",
    "    'boost_amount_stolen',\n",
    "    'movement_avg_speed_percentage',\n",
    "    'positioning_percent_in_front_ball',\n",
    "    'boost_amount_stolen_small',\n",
    "    'positioning_time_in_front_ball',\n",
    "    'positioning_time_closest_to_ball',\n",
    "    'boost_amount_collected',\n",
    "    'boost_amount_collected_big',\n",
    "    'boost_amount_stolen_big',\n",
    "    'positioning_percent_offensive_third',\n",
    "    'positioning_time_offensive_third',\n",
    "    'movement_time_slow_speed',\n",
    "    'boost_count_collected_small',\n",
    "    'boost_amount_overfill_stolen',\n",
    "    'movement_total_distance',\n",
    "    'positioning_percent_defensive_third'\n",
    "\n",
    "]\n",
    "\n",
    "\n",
    "\n",
    "x_2 = final_binary[selected_columns]\n",
    "#x_2 = final_bal.drop(['Age','team_region','player_tag','platform_id','car_name','DOB','advanced_rating','Z_Scores','Age_Group'], axis=1)\n",
    "X_train, X_test, y_train, y_test = train_test_split(x_2, pred_2, test_size=0.2, random_state=123)\n",
    "\n",
    "#further split the training set into a validation set\n",
    "\n",
    "X_train, X_val, y_train, y_val = train_test_split(X_train, y_train, test_size=0.2, random_state=123)\n",
    "X_train\n",
    "\n",
    "\n"
   ]
  },
  {
   "cell_type": "code",
   "execution_count": null,
   "id": "50b23323-6e99-4577-a5b0-5d45eecff25c",
   "metadata": {},
   "outputs": [],
   "source": [
    "\n",
    "y_train = np.ravel(y_train)\n",
    "\n",
    "log_reg = LogisticRegression(n_jobs=-1)\n",
    "\n",
    "\n",
    "log_reg.fit(X_train, y_train)\n",
    "\n",
    "\n",
    "y_pred = log_reg.predict(X_val)\n",
    "metrics(y_val, y_pred)\n",
    "\n",
    "#0.630993654739321 with 84\n",
    "#0.631255314973507 with 74\n",
    "#0.6321057107346111 with 64\n",
    "#0.630993654739321 with 54\n",
    "#0.625237129587231 with 44\n",
    "#0.6251717145286845 with 34\n",
    "#0.623863413357755 with 24\n",
    "#0.622228036894093 with 14\n",
    "#0.599332766402826 with 4\n",
    "#\n",
    "#\n",
    "#"
   ]
  },
  {
   "cell_type": "code",
   "execution_count": null,
   "id": "9734fe69-dc4f-453d-968e-05c767ec3a9f",
   "metadata": {},
   "outputs": [],
   "source": [
    "y_pred = log_reg.predict(X_test)\n",
    "metrics(y_test, y_pred)\n"
   ]
  },
  {
   "cell_type": "code",
   "execution_count": null,
   "id": "8983b97c-d6d3-4ce3-9773-d97611749e3d",
   "metadata": {},
   "outputs": [],
   "source": []
  },
  {
   "cell_type": "code",
   "execution_count": null,
   "id": "fa96ab53-5de5-4ce9-9612-feacfe87a2a3",
   "metadata": {},
   "outputs": [],
   "source": [
    "#hyperparamter tuning"
   ]
  },
  {
   "cell_type": "code",
   "execution_count": null,
   "id": "4a2ced59-5e1f-4e5b-89e5-07213ccd952d",
   "metadata": {},
   "outputs": [],
   "source": [
    "logreg = LogisticRegression()\n",
    "\n",
    "\n",
    "\n",
    "param_grid = {\n",
    "    'C': [0.1, 1.0, 5.0, 10.0,20.0],  \n",
    "    'solver': ['liblinear', 'saga'],\n",
    "    'penalty': ['l1', 'l2'], \n",
    "    'max_iter': [1000] \n",
    "}\n",
    "\n",
    "y_train = np.ravel(y_train)\n",
    "grid_search = GridSearchCV(logreg, param_grid, cv=5)\n",
    "grid_search.fit(X_train, y_train)\n",
    "\n",
    "\n",
    "grid_search.best_estimator_\n",
    "\n",
    "\n",
    "\n",
    "\n",
    "y_pred = grid_search.predict(X_test) \n",
    "\n",
    "#check the score with the best model on the test set\n",
    "metrics(y_test, y_pred)"
   ]
  },
  {
   "cell_type": "code",
   "execution_count": null,
   "id": "503aff85-8806-401e-ac87-17fe4b6e1354",
   "metadata": {},
   "outputs": [],
   "source": []
  },
  {
   "cell_type": "code",
   "execution_count": null,
   "id": "4d0781db-5fdc-41bf-a51d-c8ca40d85759",
   "metadata": {
    "tags": []
   },
   "outputs": [],
   "source": [
    "# reset for new model\n",
    "\n",
    "pred_bin = final_binary[[\"Age_Category\"]]\n",
    "x_bin = final_binary.drop(['Age','Age_Category','team_region','player_tag','platform_id','car_name','DOB','advanced_rating','Z_Scores'], axis=1)\n",
    "\n",
    "X_train, X_test, y_train, y_test = train_test_split(x_bin, pred_bin, test_size=0.2, random_state=123)\n",
    "\n",
    "#further split the training set into a validation set\n",
    "\n",
    "X_train, X_val, y_train, y_val = train_test_split(X_train, y_train, test_size=0.2, random_state=123)\n",
    "X_train"
   ]
  },
  {
   "cell_type": "code",
   "execution_count": null,
   "id": "65901597-d7cb-4080-8357-e3ea52fc4cac",
   "metadata": {},
   "outputs": [],
   "source": [
    "#support vector machine\n",
    "\n",
    "y_train = np.ravel(y_train) \n",
    "\n",
    "svm_classifier = SVC(kernel='linear')\n",
    "\n",
    "\n",
    "svm_classifier.fit(X_train, y_train)\n",
    "\n",
    "\n",
    "y_pred = svm_classifier.predict(X_test)\n",
    "\n",
    "metrics(y_test, y_pred)"
   ]
  },
  {
   "cell_type": "code",
   "execution_count": null,
   "id": "41fbc38a-c048-4d53-8393-385998c481b0",
   "metadata": {
    "tags": []
   },
   "outputs": [],
   "source": [
    "#feature importance\n",
    "pd.reset_option('display.max_rows')\n",
    "\n",
    "pred_2 = final_binary[[\"Age_Category\"]]\n",
    "selected_columns = [\n",
    "    \"movement_count_powerslide\",\n",
    "    \"movement_time_powerslide\",\n",
    "    \"boost_percent_full_boost\",\n",
    "    \"positioning_avg_distance_to_mates\",\n",
    "    \"movement_percent_supersonic_speed\",\n",
    "    \"boost_time_full_boost\",\n",
    "    \"positioning_avg_distance_to_ball_possession\",\n",
    "    \"movement_percent_ground\",\n",
    "    \"boost_amount_used_while_supersonic\",\n",
    "    \"movement_percent_low_air\",\n",
    "    \"positioning_avg_distance_to_ball\",\n",
    "    \"movement_time_supersonic_speed\",\n",
    "    \"boost_percent_zero_boost\",\n",
    "    \"movement_percent_high_air\",\n",
    "    \"movement_percent_boost_speed\",\n",
    "    \"boost_amount_overfill\",\n",
    "    \"movement_time_high_air\",\n",
    "    \"boost_time_zero_boost\",\n",
    "    \"positioning_percent_most_back\",\n",
    "    \"boost_avg_amount\",\n",
    "    \"boost_bpm\",\n",
    "    \"positioning_avg_distance_to_ball_no_possession\",\n",
    "    \"boost_amount_collected_small\",\n",
    "    \"positioning_percent_farthest_from_ball\",\n",
    "    \"boost_percent_boost_75_100\",\n",
    "    \"positioning_percent_closest_to_ball\",\n",
    "    \"boost_bcpm\",\n",
    "    \"boost_percent_boost_25_50\",\n",
    "    \"positioning_percent_most_forward\",\n",
    "    \"movement_time_low_air\",\n",
    "    \"boost_percent_boost_0_25\",\n",
    "    \"boost_time_boost_75_100\",\n",
    "    \"movement_avg_powerslide_duration\",\n",
    "    \"core_score\",\n",
    "    \"boost_percent_boost_50_75\",\n",
    "    \"movement_time_ground\",\n",
    "    \"movement_percent_slow_speed\",\n",
    "    \"positioning_percent_neutral_third\",\n",
    "    \"boost_time_boost_50_75\",\n",
    "    \"positioning_time_most_back\",\n",
    "    \"positioning_time_farthest_from_ball\",\n",
    "    \"boost_amount_stolen_small\",\n",
    "    \"movement_time_boost_speed\"\n",
    "]\n",
    "\n",
    "\n",
    "\n",
    "x_2 = final_binary[selected_columns]\n",
    "#x_2 = final_bal.drop(['Age','team_region','player_tag','platform_id','car_name','DOB','advanced_rating','Z_Scores','Age_Group'], axis=1)\n",
    "X_train, X_test, y_train, y_test = train_test_split(x_2, pred_2, test_size=0.2, random_state=123)\n",
    "\n",
    "#further split the training set into a validation set\n",
    "\n",
    "X_train, X_val, y_train, y_val = train_test_split(X_train, y_train, test_size=0.2, random_state=123)\n",
    "X_train\n",
    "\n",
    "\n"
   ]
  },
  {
   "cell_type": "code",
   "execution_count": null,
   "id": "c3b93093-ec59-4833-9baf-4e571207887d",
   "metadata": {},
   "outputs": [],
   "source": [
    "y_train = np.ravel(y_train)\n",
    "\n",
    "svm_classifier = SVC(kernel='linear')\n",
    "\n",
    "\n",
    "svm_classifier.fit(X_train, y_train)\n",
    "\n",
    "\n",
    "y_pred = svm_classifier.predict(X_test)\n",
    "\n",
    "metrics(y_test, y_pred)"
   ]
  },
  {
   "cell_type": "code",
   "execution_count": null,
   "id": "2653f7c5-8649-47ac-89d3-07ee843612e8",
   "metadata": {},
   "outputs": [],
   "source": [
    "#reset for new model\n",
    "pred_bin = final_binary[[\"Age_Category\"]]\n",
    "x_bin = final_binary.drop(['Age','Age_Category','team_region','player_tag','platform_id','car_name','DOB','advanced_rating','Z_Scores'], axis=1)\n",
    "\n",
    "X_train, X_test, y_train, y_test = train_test_split(x_bin, pred_bin, test_size=0.2, random_state=123)\n",
    "\n",
    "#further split the training set into a validation set\n",
    "\n",
    "X_train, X_val, y_train, y_val = train_test_split(X_train, y_train, test_size=0.2, random_state=123)\n",
    "X_train"
   ]
  },
  {
   "cell_type": "code",
   "execution_count": null,
   "id": "3f1937cf-0d6c-48ec-bda2-cb77231bafc7",
   "metadata": {},
   "outputs": [],
   "source": []
  },
  {
   "cell_type": "code",
   "execution_count": null,
   "id": "d438bc02-2386-4bc5-ab70-063e2f79f86d",
   "metadata": {},
   "outputs": [],
   "source": []
  },
  {
   "cell_type": "code",
   "execution_count": null,
   "id": "4bd02a02-a902-41a4-89e1-8ae716eece4d",
   "metadata": {},
   "outputs": [],
   "source": []
  },
  {
   "cell_type": "code",
   "execution_count": null,
   "id": "6349763e-0b2d-49fc-b35f-4ef5d242fed2",
   "metadata": {},
   "outputs": [],
   "source": [
    "#hyperparameter tuning\n"
   ]
  },
  {
   "cell_type": "code",
   "execution_count": null,
   "id": "4f29a54d-9957-4c14-9f66-ac7fa95b2f53",
   "metadata": {},
   "outputs": [],
   "source": [
    "patch_sklearn()\n",
    "\n",
    "y_train = np.ravel(y_train) \n",
    "\n",
    "svm_classifier = svm.SVC()\n",
    "\n",
    "\n",
    "param_grid = {'C': [0.1, 1, 10, 100], 'kernel': ['linear', 'rbf', 'poly'], 'gamma': [0.1, 0.01, 0.001]}\n",
    "\n",
    "\n",
    "grid_search = GridSearchCV(svm_classifier, param_grid, cv=5, scoring='accuracy', verbose=1)\n",
    "\n",
    "\n",
    "grid_search.fit(X_train, y_train)\n",
    "\n",
    "\n",
    "print(\"Best parameters found: \", grid_search.best_params_)\n",
    "print(\"Best cross-validation accuracy: {:.2f}\".format(grid_search.best_score_))\n",
    "\n",
    "\n",
    "test_accuracy = grid_search.score(X_test, y_test)\n",
    "print(\"Test set accuracy: {:.2f}\".format(test_accuracy))\n"
   ]
  },
  {
   "cell_type": "code",
   "execution_count": null,
   "id": "279d134c-ceee-4668-8e48-70f6e7ca5910",
   "metadata": {},
   "outputs": [],
   "source": [
    "\n",
    "best_svm_classifier = svm.SVC(C=100, gamma=0.1, kernel='rbf')\n",
    "\n",
    "best_svm_classifier.fit(X_train, y_train)\n",
    "\n",
    "y_pred = best_svm_classifier.predict(X_test)\n",
    "\n",
    "accuracy = accuracy_score(y_test, y_pred)\n",
    "print(f\"Accuracy: {accuracy}\")\n",
    "\n",
    "metrics(y_test, y_pred) "
   ]
  },
  {
   "cell_type": "code",
   "execution_count": null,
   "id": "e8ee2297-d42f-46c1-8001-225d8ac3418e",
   "metadata": {},
   "outputs": [],
   "source": []
  },
  {
   "cell_type": "code",
   "execution_count": null,
   "id": "3db9b526-9b4a-428f-b848-7e8c56e5765c",
   "metadata": {},
   "outputs": [],
   "source": []
  },
  {
   "cell_type": "code",
   "execution_count": null,
   "id": "db46e2f8-c441-41a0-8efd-0fbff0b668bb",
   "metadata": {},
   "outputs": [],
   "source": []
  },
  {
   "cell_type": "code",
   "execution_count": null,
   "id": "4d77174c-5c60-4145-be72-5d3ed8f72d93",
   "metadata": {
    "tags": []
   },
   "outputs": [],
   "source": [
    "#reset for new model\n",
    "\n",
    "pred_bin = final_binary[[\"Age_Category\"]]\n",
    "x_bin = final_binary.drop(['Age','Age_Category','team_region','player_tag','platform_id','car_name','DOB','advanced_rating','Z_Scores'], axis=1)\n",
    "\n",
    "X_train, X_test, y_train, y_test = train_test_split(x_bin, pred_bin, test_size=0.2, random_state=123)\n",
    "\n",
    "#further split the training set into a validation set\n",
    "\n",
    "X_train, X_val, y_train, y_val = train_test_split(X_train, y_train, test_size=0.2, random_state=123)\n",
    "X_train"
   ]
  },
  {
   "cell_type": "code",
   "execution_count": null,
   "id": "d821d7fc-161d-47c9-807b-6eaf0a6b1604",
   "metadata": {},
   "outputs": [],
   "source": [
    "#naive base\n",
    "\n",
    "\n",
    "y_train = np.ravel(y_train)\n",
    "gnb = GaussianNB()\n",
    "\n",
    "gnb.fit(X_train, y_train)\n",
    "\n",
    "y_pred = gnb.predict(X_test)\n",
    "metrics(y_test, y_pred)"
   ]
  },
  {
   "cell_type": "code",
   "execution_count": null,
   "id": "07473800-ba70-4440-8d7b-edc9e56a669a",
   "metadata": {},
   "outputs": [],
   "source": [
    "#feature importance\n",
    "\n",
    "pred_bin2 = final_binary[[\"Age_Category\"]]\n",
    "#x_bin2 = final_binary.drop(['Age','Age_Category','team_region','player_tag','platform_id','car_name','DOB','advanced_rating','Z_Scores','advanced_mvp','winner','core_goals','core_assists','positioning_goals_against_while_last_defender','demo_taken','demo_inflicted','advanced_goal_participation','core_saves','core_shooting_percentage','boost_count_stolen_big','core_shots','boost_count_collected_big','boost_count_stolen_big','boost_count_stolen_small','positioning_percent_defensive_half','positioning_percent_offensive_half','positioning_time_offensive_half','positioning_time_defensive_third','positioning_time_defensive_half','positioning_time_behind_ball','positioning_percent_defensive_third','movement_total_distance','boost_amount_overfill_stolen'], axis=1)\n",
    "x_bin2 = final_binary.drop(['Age','Age_Category','team_region','player_tag','platform_id','car_name','DOB','advanced_rating','Z_Scores','advanced_mvp','winner','core_goals','core_assists','positioning_goals_against_while_last_defender','demo_taken','demo_inflicted','advanced_goal_participation','core_saves','core_shooting_percentage','boost_count_stolen_big','core_shots','boost_count_collected_big','boost_count_stolen_big'], axis=1)\n",
    "\n",
    "\n",
    "selected_columns= [\n",
    "    'movement_count_powerslide',\n",
    "    'movement_percent_supersonic_speed',\n",
    "    'movement_time_powerslide',\n",
    "    'movement_time_supersonic_speed',\n",
    "    'positioning_avg_distance_to_ball_possession',\n",
    "    'movement_avg_powerslide_duration',\n",
    "    'boost_percent_full_boost',\n",
    "    'boost_amount_used_while_supersonic',\n",
    "    'positioning_avg_distance_to_ball',\n",
    "    'boost_time_full_boost',\n",
    "    'movement_percent_boost_speed',\n",
    "    'positioning_avg_distance_to_mates'\n",
    "]\n",
    "x_bin2 = final_binary[selected_columns]\n",
    "\n",
    "X_train, X_test, y_train, y_test = train_test_split(x_bin2, pred_bin2, test_size=0.2, random_state=123)\n",
    "\n",
    "#further split the training set into a validation set\n",
    "\n",
    "X_train, X_val, y_train, y_val = train_test_split(X_train, y_train, test_size=0.2, random_state=123)\n",
    "X_train"
   ]
  },
  {
   "cell_type": "code",
   "execution_count": null,
   "id": "a162169b-58bb-49ac-8d88-519bcc452d52",
   "metadata": {},
   "outputs": [],
   "source": [
    "y_train = np.ravel(y_train) \n",
    "gnb = GaussianNB()\n",
    "\n",
    "gnb.fit(X_train, y_train)\n",
    "\n",
    "y_pred = gnb.predict(X_test)\n",
    "metrics(y_test, y_pred)\n",
    "\n",
    "#0.6005102374566625 with 84\n",
    "#0.5959311833584091 with 74\n",
    "#0.5987440308759077 with 64\n",
    "#0.6020147838032315 with 54\n",
    "#0.6062667626087526 with 44\n",
    "#0.6080329691895074 with 34\n",
    "#0.6082292143651469 with 24\n",
    "#0.6173219075031072 with 14\n",
    "#0.619349774318048 with 12\n",
    "#0.612088702819389 with 10\n",
    "#0.5828481716491136 with 4\n",
    "\n",
    "\n",
    "\n",
    "\n",
    "#0.609210440243344 with 38\n",
    "#0.6155557009223523 with 18"
   ]
  },
  {
   "cell_type": "code",
   "execution_count": null,
   "id": "35b44d6c-0f40-4154-88ad-b28d24c2affc",
   "metadata": {},
   "outputs": [],
   "source": []
  },
  {
   "cell_type": "code",
   "execution_count": null,
   "id": "96110c81-2ed7-4d46-b564-0afb5a3ae3e6",
   "metadata": {},
   "outputs": [],
   "source": []
  },
  {
   "cell_type": "code",
   "execution_count": null,
   "id": "da4de81a-4df4-4665-8d61-7eabd5b6d66d",
   "metadata": {},
   "outputs": [],
   "source": [
    "#hyperparameter tuning"
   ]
  },
  {
   "cell_type": "code",
   "execution_count": null,
   "id": "6b671eb8-5a52-4567-8ee0-a2b9c79d952b",
   "metadata": {},
   "outputs": [],
   "source": [
    "gnb = GaussianNB()\n",
    "\n",
    "\n",
    "param_grid = {\n",
    "    'var_smoothing': [1e-9, 1e-8, 1e-7, 1e-6, 1e-5],  \n",
    "    'priors': [None, [0.25, 0.25, 0.5], [0.2, 0.3, 0.5]]  \n",
    "\n",
    "}\n",
    "\n",
    "grid_search = GridSearchCV(gnb, param_grid, cv=5)\n",
    "grid_search.fit(X_train, y_train)\n",
    "\n",
    "y_pred = grid_search.predict(X_test)\n",
    "metrics(y_test, y_pred)"
   ]
  },
  {
   "cell_type": "code",
   "execution_count": null,
   "id": "20f122fc-da21-4860-ac79-5bc952e80821",
   "metadata": {},
   "outputs": [],
   "source": []
  },
  {
   "cell_type": "code",
   "execution_count": null,
   "id": "2ec462d4-3efa-433b-87a8-c2b74df9dd97",
   "metadata": {},
   "outputs": [],
   "source": []
  },
  {
   "cell_type": "code",
   "execution_count": null,
   "id": "5f25c909-4d30-4b1d-abad-156d93e7d0d3",
   "metadata": {},
   "outputs": [],
   "source": []
  },
  {
   "cell_type": "code",
   "execution_count": null,
   "id": "de961252-5a2c-4850-be0f-8e18c8c4c3e1",
   "metadata": {},
   "outputs": [],
   "source": []
  },
  {
   "cell_type": "code",
   "execution_count": null,
   "id": "d1a508a3-674f-455b-9138-419e27563d71",
   "metadata": {},
   "outputs": [],
   "source": [
    "#reset for new model\n",
    "pred_bin = final_binary[[\"Age_Category\"]]\n",
    "x_bin = final_binary.drop(['Age','Age_Category','team_region','player_tag','platform_id','car_name','DOB','advanced_rating','Z_Scores'], axis=1)\n",
    "\n",
    "X_train, X_test, y_train, y_test = train_test_split(x_bin, pred_bin, test_size=0.2, random_state=123)\n",
    "\n",
    "#further split the training set into a validation set\n",
    "\n",
    "X_train, X_val, y_train, y_val = train_test_split(X_train, y_train, test_size=0.2, random_state=123)\n",
    "X_train"
   ]
  },
  {
   "cell_type": "code",
   "execution_count": null,
   "id": "01b43a6b-55db-47f6-a298-0329c747afda",
   "metadata": {},
   "outputs": [],
   "source": [
    "#random forest binary\n",
    "y_train = np.ravel(y_train) \n",
    "\n",
    "rf_classifier_bin = RandomForestClassifier(n_estimators=100, random_state=42,n_jobs=-1)\n",
    "\n",
    "\n",
    "rf_classifier_bin.fit(X_train, y_train)\n",
    "\n",
    "\n",
    "y_pred = rf_classifier_bin.predict(X_test)\n",
    "\n",
    "metrics(y_test, y_pred)"
   ]
  },
  {
   "cell_type": "code",
   "execution_count": null,
   "id": "e6fcccaf-750b-4e0c-98af-ecd48ddc110f",
   "metadata": {
    "tags": []
   },
   "outputs": [],
   "source": []
  },
  {
   "cell_type": "code",
   "execution_count": null,
   "id": "d76743dc-cea6-4fa8-872b-42f03f2eb025",
   "metadata": {},
   "outputs": [],
   "source": [
    "#improve model with feature importance"
   ]
  },
  {
   "cell_type": "code",
   "execution_count": null,
   "id": "d25145a2-55ca-45f7-94fa-79427b5ee92b",
   "metadata": {
    "tags": []
   },
   "outputs": [],
   "source": [
    "# Retrieve feature importances\n",
    "feature_importance = pd.Series(rf_classifier_bin.feature_importances_, index=X_train.columns).sort_values(ascending=False)\n",
    "pd.set_option('display.max_rows', None)\n",
    "\n",
    "print(feature_importance)"
   ]
  },
  {
   "cell_type": "code",
   "execution_count": null,
   "id": "c8a1491f-ed72-4126-912b-98d237a8b488",
   "metadata": {},
   "outputs": [],
   "source": [
    "pd.reset_option('display.max_rows')\n",
    "pred_bin2 = final_binary[[\"Age_Category\"]]\n",
    "x_bin2 = final_binary.drop(['Age','Age_Category','team_region','player_tag','platform_id','car_name','DOB','advanced_rating','Z_Scores','advanced_mvp','winner','core_goals','core_assists','positioning_goals_against_while_last_defender','demo_taken','demo_inflicted','advanced_goal_participation','core_saves','core_shooting_percentage','boost_count_stolen_big','core_shots','boost_count_collected_big','boost_count_stolen_big','boost_count_stolen_small','positioning_percent_defensive_half','positioning_percent_offensive_half','positioning_time_offensive_half','positioning_time_defensive_third','positioning_time_defensive_half','positioning_time_behind_ball','positioning_percent_defensive_third','movement_total_distance','boost_amount_overfill_stolen'], axis=1)\n",
    "#x_bin2 = final_binary.drop(['Age','Age_Category','team_region','player_tag','platform_id','car_name','DOB','advanced_rating','Z_Scores','advanced_mvp','winner','core_goals','core_assists','positioning_goals_against_while_last_defender','demo_taken','demo_inflicted','advanced_goal_participation','core_saves','core_shooting_percentage','boost_count_stolen_big','core_shots','boost_count_collected_big','boost_count_stolen_big','KD'], axis=1)\n",
    "\n",
    "\n",
    "selected_columns = selected_columns = selected_columns = [\n",
    "    'movement_count_powerslide',\n",
    "    'movement_percent_supersonic_speed',\n",
    "    'movement_time_powerslide',\n",
    "    'movement_time_supersonic_speed',\n",
    "    'positioning_avg_distance_to_ball_possession',\n",
    "    'movement_avg_powerslide_duration',\n",
    "    'boost_percent_full_boost',\n",
    "    'boost_amount_used_while_supersonic',\n",
    "    'positioning_avg_distance_to_ball',\n",
    "    'boost_time_full_boost',\n",
    "    'movement_percent_boost_speed',\n",
    "    'positioning_avg_distance_to_mates',\n",
    "    'movement_percent_ground',\n",
    "    'movement_percent_high_air',\n",
    "    'positioning_avg_distance_to_ball_no_possession',\n",
    "    'positioning_percent_most_back',\n",
    "    'boost_bpm',\n",
    "    'movement_time_high_air',\n",
    "    'movement_percent_low_air',\n",
    "    'boost_percent_boost_75_100',\n",
    "    'boost_amount_overfill',\n",
    "    'positioning_percent_closest_to_ball',\n",
    "    'positioning_percent_farthest_from_ball',\n",
    "    'boost_bcpm',\n",
    "    'boost_avg_amount',\n",
    "    'movement_time_boost_speed',\n",
    "    'boost_amount_collected_small',\n",
    "    'positioning_percent_most_forward',\n",
    "    'boost_time_boost_75_100',\n",
    "    'boost_percent_zero_boost',\n",
    "    'positioning_percent_neutral_third',\n",
    "    'core_score',\n",
    "    'boost_percent_boost_25_50',\n",
    "    'boost_time_zero_boost',\n",
    "    'movement_time_ground',\n",
    "    'boost_percent_boost_50_75',\n",
    "    'boost_time_boost_25_50',\n",
    "    'positioning_time_most_back',\n",
    "    'movement_time_low_air',\n",
    "    'boost_time_boost_50_75',\n",
    "    'movement_percent_slow_speed',\n",
    "    'boost_time_boost_0_25',\n",
    "    'positioning_time_neutral_third',\n",
    "    'positioning_time_most_forward',\n",
    "    'positioning_time_farthest_from_ball',\n",
    "    'positioning_percent_behind_ball',\n",
    "    'boost_percent_boost_0_25',\n",
    "    'movement_avg_speed',\n",
    "    'boost_amount_stolen',\n",
    "    'movement_avg_speed_percentage',\n",
    "    'positioning_percent_in_front_ball',\n",
    "    'boost_amount_stolen_small',\n",
    "    'positioning_time_in_front_ball',\n",
    "    'positioning_time_closest_to_ball',\n",
    "\n",
    "]\n",
    "\n",
    "\n",
    "x_bin2 = final_binary[selected_columns]\n",
    "\n",
    "X_train, X_test, y_train, y_test = train_test_split(x_bin2, pred_bin2, test_size=0.2, random_state=123)\n",
    "\n",
    "#further split the training set into a validation set\n",
    "\n",
    "X_train, X_val, y_train, y_val = train_test_split(X_train, y_train, test_size=0.2, random_state=123)\n",
    "X_train"
   ]
  },
  {
   "cell_type": "code",
   "execution_count": null,
   "id": "04c8f43c-b932-4cb5-894b-48e9d02e2edf",
   "metadata": {},
   "outputs": [],
   "source": [
    "# run model again with less features\n",
    "\n",
    "\n",
    "y_train = np.ravel(y_train)\n",
    "\n",
    "rf_classifier_bin = RandomForestClassifier(n_estimators=100, random_state=42, n_jobs=-1)\n",
    "\n",
    "\n",
    "rf_classifier_bin.fit(X_train, y_train)\n",
    "\n",
    "\n",
    "y_pred = rf_classifier_bin.predict(X_val)\n",
    "\n",
    "metrics(y_val, y_pred)"
   ]
  },
  {
   "cell_type": "code",
   "execution_count": null,
   "id": "fe5661c7-b140-4f41-a350-1ad3d1d9e523",
   "metadata": {},
   "outputs": [],
   "source": [
    "# Make predictions on the test data\n",
    "y_pred = rf_classifier_bin.predict(X_test)\n",
    "\n",
    "metrics(y_test, y_pred)"
   ]
  },
  {
   "cell_type": "code",
   "execution_count": null,
   "id": "b5d836b5-6e72-4901-b844-cfc64bcf6350",
   "metadata": {},
   "outputs": [],
   "source": [
    "#0.6461045332635573 with 84\n",
    "#0.6487211356054163 with 74\n",
    "#0.6517956433571008 with 64\n",
    "#0.652              with 54\n",
    "#0.6499640217177994 with 44\n",
    "#0.652776869235298 with 34\n",
    "#0.6457120429122785 with 24\n",
    "#0.6372080853012363 with 14\n",
    "#0.5827173415320207 with 4\n",
    "#\n",
    "#\n",
    "#"
   ]
  },
  {
   "cell_type": "code",
   "execution_count": null,
   "id": "b313a1bb-39d9-414f-b26b-939b70966d3e",
   "metadata": {},
   "outputs": [],
   "source": [
    "data = {\n",
    "    84: 0.6461045332635573,\n",
    "    74: 0.6487211356054163,\n",
    "    64: 0.6517956433571008,\n",
    "    54: 0.6523189638254726,\n",
    "    44: 0.6499640217177994,\n",
    "    34: 0.652776869235298,\n",
    "    24: 0.6457120429122785,\n",
    "    14: 0.6372080853012363,\n",
    "    4: 0.5827173415320207\n",
    "}\n",
    "\n",
    "x_values = list(data.keys())\n",
    "y_values = list(data.values())\n",
    "\n",
    "plt.plot(x_values, y_values, marker='o')\n",
    "plt.xlabel('Number of features')\n",
    "plt.ylabel('Accuracy score')\n",
    "plt.title('Changes in accuracy score')\n",
    "plt.show()"
   ]
  },
  {
   "cell_type": "code",
   "execution_count": null,
   "id": "f9a2b3bd-99a6-4ebd-92a7-9e4fb7a742b9",
   "metadata": {},
   "outputs": [],
   "source": [
    "X_train"
   ]
  },
  {
   "cell_type": "code",
   "execution_count": null,
   "id": "68c56c2d-c654-410e-9adb-9f9a202ee5e7",
   "metadata": {},
   "outputs": [],
   "source": []
  },
  {
   "cell_type": "code",
   "execution_count": null,
   "id": "4e2af3d0-e470-4846-b631-600a1da41eea",
   "metadata": {
    "tags": []
   },
   "outputs": [],
   "source": [
    "#improve model with hyperparameter tuning using grid search\n",
    "\n",
    "\n",
    "rf_classifier_bin = RandomForestClassifier()\n",
    "\n",
    "\n",
    "param_grid = {\n",
    "    'n_estimators': [100, 200],\n",
    "    'max_depth': [None, 10, 20],\n",
    "    'min_samples_split': [2, 5],\n",
    "    'min_samples_leaf': [1, 2, 4]\n",
    "}\n",
    "\n",
    "\n",
    "grid_search = GridSearchCV(estimator=rf_classifier_bin, param_grid=param_grid, cv=5)\n",
    "grid_search.fit(X_train, y_train)\n",
    "\n",
    "best_params = grid_search.best_params_\n",
    "best_score = grid_search.best_score_\n",
    "\n",
    "print(\"Best Parameters:\", best_params)\n",
    "print(\"Best Score:\", best_score)\n"
   ]
  },
  {
   "cell_type": "code",
   "execution_count": null,
   "id": "ee625432-946c-41cb-845d-04ef23f3ffca",
   "metadata": {},
   "outputs": [],
   "source": [
    "# predict y with the new model with the best settings on the test data for model comparison\n",
    "y_pred = grid_search.predict(X_test) \n",
    "\n",
    "\n",
    "metrics(y_test, y_pred) "
   ]
  },
  {
   "cell_type": "code",
   "execution_count": null,
   "id": "5075e174-f497-4cce-ab2c-bae0786bdc8e",
   "metadata": {},
   "outputs": [],
   "source": [
    "\n",
    "y_train"
   ]
  },
  {
   "cell_type": "code",
   "execution_count": null,
   "id": "a4e72df4-3704-47a8-8435-4a1094952d9b",
   "metadata": {},
   "outputs": [],
   "source": [
    "X_train"
   ]
  },
  {
   "cell_type": "code",
   "execution_count": null,
   "id": "41315b42-0f63-46d8-878a-37401a201b65",
   "metadata": {},
   "outputs": [],
   "source": [
    "#run hyperparamter with more setting for longer loading time\n",
    "y_train = np.ravel(y_train)\n",
    "# Create a Random Forest classifier\n",
    "rf_classifier_bin = RandomForestClassifier( n_jobs=-1)\n",
    "\n",
    "param_grid = {\n",
    "    'n_estimators': [100, 300, 500],\n",
    "    'max_depth': [None, 10, 20],\n",
    "    'min_samples_split': [2, 5, 10],\n",
    "    'min_samples_leaf': [1, 2, 4]\n",
    "}\n",
    "\n",
    "grid_search = GridSearchCV(estimator=rf_classifier_bin, param_grid=param_grid, cv=5)\n",
    "grid_search.fit(X_train, y_train)\n",
    "\n",
    "best_params = grid_search.best_params_\n",
    "best_score = grid_search.best_score_\n",
    "\n",
    "print(\"Best Parameters:\", best_params)\n",
    "print(\"Best Score:\", best_score)\n",
    "\n",
    "y_pred = grid_search.predict(X_val) \n",
    "\n",
    "metrics(y_val, y_pred) \n",
    "\n",
    "#0.6531693595865768 with 71 features\n",
    "#0.6542814155818669 with 61 features"
   ]
  },
  {
   "cell_type": "code",
   "execution_count": null,
   "id": "06ff9211-521e-49a0-8152-0b666f668254",
   "metadata": {},
   "outputs": [],
   "source": [
    "params = {'max_depth': None, 'min_samples_leaf': 1, 'min_samples_split': 2, 'n_estimators': 1000}\n",
    "\n",
    "\n",
    "rf_classifier_bin = RandomForestClassifier(max_depth=params['max_depth'],\n",
    "                                      min_samples_leaf=params['min_samples_leaf'],\n",
    "                                      min_samples_split=params['min_samples_split'],\n",
    "                                      n_estimators=params['n_estimators'] , n_jobs=-1,random_state = 42)\n",
    "\n",
    "rf_classifier_bin.fit(X_train, y_train)\n",
    "\n",
    "y_pred = rf_classifier_bin.predict(X_test) \n",
    "\n",
    "#check the score\n",
    "metrics(y_test, y_pred) "
   ]
  },
  {
   "cell_type": "code",
   "execution_count": null,
   "id": "ed480636-2a22-4d6e-b28e-bcccb74a395f",
   "metadata": {},
   "outputs": [],
   "source": []
  },
  {
   "cell_type": "code",
   "execution_count": null,
   "id": "11ad9c53-62ff-48af-b40b-cf525b5c5cce",
   "metadata": {},
   "outputs": [],
   "source": [
    "#0.6569634329822726 with 71 features\n",
    "#0.66 with val data 61 feautres\n",
    "#0.6601687708510499 61 features\n",
    "rf_scores_bin = cross_val_score(rf_classifier_bin, x_bin2, pred_bin2, cv=10)  \n",
    "\n",
    "\n",
    "\n",
    "print('\\nMean Accuracy:', rf_scores_bin.mean())\n",
    "print('Overall Standard Deviation:', np.std(rf_scores_bin))"
   ]
  },
  {
   "cell_type": "code",
   "execution_count": null,
   "id": "80c47eb7-e6b9-495e-afc1-d51c3a24e6ab",
   "metadata": {},
   "outputs": [],
   "source": [
    "print('\\nMean Accuracy:', rf_scores_bin.mean())\n",
    "print('Overall Standard Deviation:', np.std(rf_scores_bin))"
   ]
  },
  {
   "cell_type": "code",
   "execution_count": null,
   "id": "80a4067a-5372-4bdc-8aff-62ed91f2d4f7",
   "metadata": {},
   "outputs": [],
   "source": [
    "#confusion matrix\n",
    "ConfusionMatrixDisplay.from_predictions(y_test, y_pred, cmap='Blues')\n",
    "plt.show()"
   ]
  },
  {
   "cell_type": "code",
   "execution_count": null,
   "id": "0fb7cb09-5109-450e-b22c-4da42d5aace2",
   "metadata": {},
   "outputs": [],
   "source": []
  },
  {
   "cell_type": "code",
   "execution_count": null,
   "id": "ebeb06a3-29b2-4c33-98ca-c81e2161f887",
   "metadata": {},
   "outputs": [],
   "source": []
  },
  {
   "cell_type": "code",
   "execution_count": null,
   "id": "5de53fca-dab2-45c7-b856-0652a76613ff",
   "metadata": {
    "tags": []
   },
   "outputs": [],
   "source": [
    "\n"
   ]
  },
  {
   "cell_type": "code",
   "execution_count": null,
   "id": "a8df7921-9b23-46a1-8758-4742cfe15dfd",
   "metadata": {},
   "outputs": [],
   "source": []
  },
  {
   "cell_type": "code",
   "execution_count": null,
   "id": "b7d4b4e8-d37f-48ca-8dfc-554a9c43c221",
   "metadata": {
    "jupyter": {
     "source_hidden": true
    },
    "tags": []
   },
   "outputs": [],
   "source": [
    "#KD RATIO\n",
    "def calculate_KD(row):\n",
    "    if row['demo_inflicted'] == 0:\n",
    "        return -row['demo_taken']  # Returns the negative of demo_taken\n",
    "    elif row['demo_taken'] == 0:\n",
    "        return row['demo_inflicted'] / 1  # Returns demo_inflicted divided by 1\n",
    "    else:\n",
    "        return row['demo_inflicted'] / row['demo_taken']\n",
    "\n",
    "final_featureengi['KD'] = final_featureengi.apply(calculate_KD, axis=1)\n",
    "final_featureengi\n",
    "\n"
   ]
  },
  {
   "cell_type": "code",
   "execution_count": null,
   "id": "95c1d9e8-ced5-4cc0-89d4-49a2b2349c28",
   "metadata": {},
   "outputs": [],
   "source": []
  },
  {
   "cell_type": "code",
   "execution_count": null,
   "id": "307cc97d-c35f-42c8-b15b-c562d638ae4a",
   "metadata": {},
   "outputs": [],
   "source": [
    "final_region = final_featureengi.copy()"
   ]
  },
  {
   "cell_type": "code",
   "execution_count": null,
   "id": "ed5822c2-32f9-4f0d-a380-fd93608f126e",
   "metadata": {},
   "outputs": [],
   "source": []
  },
  {
   "cell_type": "code",
   "execution_count": null,
   "id": "7c703a2e-d0a4-4daf-a877-1324d0bd7d48",
   "metadata": {},
   "outputs": [],
   "source": []
  },
  {
   "cell_type": "code",
   "execution_count": null,
   "id": "5f59a322-28f5-4397-97ed-744282511418",
   "metadata": {},
   "outputs": [],
   "source": []
  },
  {
   "cell_type": "code",
   "execution_count": null,
   "id": "dd6adef0-d660-4c50-afdf-1a361b246011",
   "metadata": {},
   "outputs": [],
   "source": []
  },
  {
   "cell_type": "code",
   "execution_count": null,
   "id": "a03e1c3e-7a87-423a-9179-f4549260dbf9",
   "metadata": {},
   "outputs": [],
   "source": []
  },
  {
   "cell_type": "code",
   "execution_count": null,
   "id": "ce8ffc8b-fa15-4e3d-9ac6-b124321b408c",
   "metadata": {},
   "outputs": [],
   "source": []
  },
  {
   "cell_type": "code",
   "execution_count": null,
   "id": "5177995c-38a5-42d4-b8db-6839a3368efa",
   "metadata": {},
   "outputs": [],
   "source": [
    "selected_regions = ['North America', 'Europe']\n",
    "\n",
    "final_region = final_region[final_region['team_region'].isin(selected_regions)]\n",
    "\n",
    "final_region"
   ]
  },
  {
   "cell_type": "code",
   "execution_count": null,
   "id": "421936fc-fdec-4b84-993f-5a50c71d95e4",
   "metadata": {
    "tags": []
   },
   "outputs": [],
   "source": [
    "age_frequency = final_region['Age'].value_counts().reset_index()\n",
    "\n",
    "\n",
    "age_frequency.columns = ['Age', 'Frequency']\n",
    "\n",
    "\n",
    "age_frequency = age_frequency.sort_values(by='Frequency')\n",
    "\n",
    "plt.figure(figsize=(8, 6))\n",
    "plt.bar(age_frequency['Age'], age_frequency['Frequency'], color='skyblue')\n",
    "plt.xlabel('Age')\n",
    "plt.ylabel('Frequency')\n",
    "plt.title('Age Frequency Histogram')\n",
    "plt.xticks(age_frequency['Age'])\n",
    "plt.show()"
   ]
  },
  {
   "cell_type": "code",
   "execution_count": null,
   "id": "fbb1fdd7-c220-42b4-9948-2c35956f452a",
   "metadata": {
    "tags": []
   },
   "outputs": [],
   "source": [
    "#balance the data\n",
    "final_region2 = final_region.copy()\n",
    "\n",
    "final_region2['Age_Group'] = final_region2['Age'].apply(lambda x: '15-16' if 15 <= x <= 16 else '23+' if x >= 23 else str(x))\n",
    "\n",
    "\n",
    "\n",
    "\n",
    "age_frequency = final_region2['Age_Group'].value_counts().reset_index()\n",
    "\n",
    "\n",
    "age_frequency.columns = ['Age_Group', 'Frequency']\n",
    "\n",
    "\n",
    "age_frequency = age_frequency.sort_values(by='Age_Group')\n",
    "\n",
    "plt.figure(figsize=(8, 6))\n",
    "plt.bar(age_frequency['Age_Group'], age_frequency['Frequency'], color='skyblue')\n",
    "plt.xlabel('Age')\n",
    "plt.ylabel('Frequency')\n",
    "plt.title('Age Frequency Histogram')\n",
    "plt.xticks(age_frequency['Age_Group'])\n",
    "plt.show()"
   ]
  },
  {
   "cell_type": "code",
   "execution_count": null,
   "id": "0dbc6ff9-7d5b-45bc-a84e-4fe04c552c97",
   "metadata": {},
   "outputs": [],
   "source": [
    "group_counts = final_region2['Age_Group'].value_counts()\n",
    "\n",
    "\n",
    "target_count = 2100\n",
    "\n",
    "bal_region = pd.DataFrame() \n",
    "\n",
    "\n",
    "for group in group_counts.index:\n",
    "    \n",
    "    group_data = final_region2[final_region2['Age_Group'] == group]\n",
    "    \n",
    "    \n",
    "    if len(group_data) > target_count:\n",
    "        group_data = group_data.sample(n=target_count, random_state=1)  \n",
    "    \n",
    "    \n",
    "    bal_region = bal_region.append(group_data)\n",
    "\n",
    "\n",
    "bal_region = bal_region.reset_index(drop=True)\n",
    "\n",
    "\n",
    "\n",
    "age_frequency = bal_region['Age_Group'].value_counts().reset_index()\n",
    "\n",
    "\n",
    "age_frequency.columns = ['Age_Group', 'Frequency']\n",
    "\n",
    "\n",
    "age_frequency = age_frequency.sort_values(by='Age_Group')\n",
    "\n",
    "plt.figure(figsize=(8, 6))\n",
    "plt.bar(age_frequency['Age_Group'], age_frequency['Frequency'], color='skyblue')\n",
    "plt.xlabel('Age')\n",
    "plt.ylabel('Frequency')\n",
    "plt.title('Age Frequency Histogram')\n",
    "plt.xticks(age_frequency['Age_Group'])\n",
    "plt.show()"
   ]
  },
  {
   "cell_type": "code",
   "execution_count": null,
   "id": "7dd2e1b1-0055-435b-8171-886afec1ae25",
   "metadata": {},
   "outputs": [],
   "source": [
    "cols_to_normalize = bal_region.columns[2:87]\n",
    "\n",
    "scaler = MinMaxScaler()\n",
    "\n",
    "bal_region[cols_to_normalize] = scaler.fit_transform(bal_region[cols_to_normalize])\n",
    "\n",
    "bal_region"
   ]
  },
  {
   "cell_type": "code",
   "execution_count": null,
   "id": "756d73e6-6aa8-4b9c-b17c-b641938c1f8a",
   "metadata": {},
   "outputs": [],
   "source": []
  },
  {
   "cell_type": "code",
   "execution_count": null,
   "id": "022946d6-b100-4228-82e5-f0b2affeda9c",
   "metadata": {},
   "outputs": [],
   "source": [
    "#machine learning"
   ]
  },
  {
   "cell_type": "code",
   "execution_count": null,
   "id": "78d87ebe-e7a1-4d62-9dc3-4e1399109f43",
   "metadata": {},
   "outputs": [],
   "source": [
    "pred = bal_region[[\"Age_Group\"]]\n",
    "x = bal_region.drop(['Age','team_region','player_tag','platform_id','car_name','DOB','advanced_rating','Z_Scores','Age_Group'], axis=1)\n",
    "z = bal_region.iloc[:,2:13]\n",
    "x\n",
    "\n",
    "# Slit the data into a training set and a test set\n",
    "\n",
    "X_train, X_test, y_train, y_test = train_test_split(x, pred, test_size=0.2, random_state=123)\n",
    "\n",
    "#further split the training set into a validation set\n",
    "\n",
    "X_train, X_val, y_train, y_val = train_test_split(X_train, y_train, test_size=0.2, random_state=123)\n",
    "\n",
    "x"
   ]
  },
  {
   "cell_type": "code",
   "execution_count": null,
   "id": "52d47920-e19d-44f4-9a3c-4bbe3570d486",
   "metadata": {},
   "outputs": [],
   "source": [
    "y_train = np.ravel(y_train\n",
    "\n",
    "rf_classifier = RandomForestClassifier(n_estimators=100, random_state=42,n_jobs=-1)\n",
    "\n",
    "rf_classifier.fit(X_train, y_train)\n",
    "\n",
    "y_pred = rf_classifier.predict(X_test)\n",
    "\n",
    "metrics(y_test, y_pred)\n",
    "\n",
    "#0.3806547619047619"
   ]
  },
  {
   "cell_type": "code",
   "execution_count": null,
   "id": "17a8346a-a523-4ed2-96b2-7dd844b4c57b",
   "metadata": {},
   "outputs": [],
   "source": [
    "rf_scores = cross_val_score(rf_classifier, x, pred, cv=5)  \n",
    "\n",
    "print('Cross-Validation Scores:', rf_scores)\n",
    "print('Mean Accuracy:', rf_scores.mean())\n",
    "\n",
    "\n"
   ]
  },
  {
   "cell_type": "code",
   "execution_count": null,
   "id": "4ed4336a-476f-44f7-b263-da0ca25e1e05",
   "metadata": {},
   "outputs": [],
   "source": [
    "#improve with feature importance"
   ]
  },
  {
   "cell_type": "code",
   "execution_count": null,
   "id": "75c8dba9-1f6a-4e4d-a080-1a707730553e",
   "metadata": {},
   "outputs": [],
   "source": [
    "# Retrieve feature importances\n",
    "feature_importance = pd.Series(rf_classifier.feature_importances_, index=X_train.columns).sort_values(ascending=False)\n",
    "pd.set_option('display.max_rows', None)\n",
    "print(feature_importance)"
   ]
  },
  {
   "cell_type": "code",
   "execution_count": null,
   "id": "03e858e2-14b9-483e-9fcc-8bd55b38d6dd",
   "metadata": {},
   "outputs": [],
   "source": [
    "pd.reset_option('display.max_rows')\n",
    "\n",
    "pred = bal_region[[\"Age_Group\"]]\n",
    "selected_columns = [\n",
    "    'movement_count_powerslide',\n",
    "    'movement_time_powerslide',\n",
    "    'movement_avg_powerslide_duration',\n",
    "    'movement_percent_supersonic_speed',\n",
    "    'boost_percent_full_boost',\n",
    "    'movement_percent_low_air',\n",
    "    'movement_percent_ground',\n",
    "    'boost_time_full_boost',\n",
    "    'positioning_avg_distance_to_mates',\n",
    "    'boost_amount_used_while_supersonic',\n",
    "    'positioning_avg_distance_to_ball_possession',\n",
    "    'movement_time_supersonic_speed',\n",
    "    'boost_percent_zero_boost',\n",
    "    'movement_percent_boost_speed',\n",
    "    'boost_amount_overfill',\n",
    "    'positioning_avg_distance_to_ball',\n",
    "    'boost_avg_amount',\n",
    "    'boost_bpm',\n",
    "    'boost_time_zero_boost',\n",
    "    'positioning_percent_closest_to_ball',\n",
    "    'boost_percent_boost_75_100',\n",
    "    'positioning_percent_farthest_from_ball',\n",
    "    'boost_bcpm',\n",
    "    'movement_percent_high_air',\n",
    "    'positioning_percent_most_forward',\n",
    "    'positioning_percent_most_back',\n",
    "    'movement_time_ground',\n",
    "    'boost_amount_collected_small',\n",
    "    'movement_percent_slow_speed',\n",
    "    'movement_avg_speed_percentage',\n",
    "    'positioning_avg_distance_to_ball_no_possession',\n",
    "    'boost_percent_boost_25_50',\n",
    "    'movement_time_high_air',\n",
    "    'movement_avg_speed',\n",
    "    'positioning_time_most_forward',\n",
    "    'boost_percent_boost_0_25',\n",
    "    'boost_time_boost_75_100',\n",
    "    'positioning_time_farthest_from_ball',\n",
    "    'core_score',\n",
    "    'boost_percent_boost_50_75',\n",
    "    'movement_time_low_air',\n",
    "    'positioning_percent_neutral_third',\n",
    "    'boost_count_collected_small',\n",
    "    'movement_time_boost_speed'\n",
    "]\n",
    "\n",
    "x = bal_region[selected_columns]\n",
    "#x_2 = final_bal.drop(['Age','team_region','player_tag','platform_id','car_name','DOB','advanced_rating','Z_Scores','Age_Group'], axis=1)\n",
    "X_train, X_test, y_train, y_test = train_test_split(x, pred, test_size=0.2, random_state=123)\n",
    "\n",
    "#further split the training set into a validation set\n",
    "\n",
    "X_train, X_val, y_train, y_val = train_test_split(X_train, y_train, test_size=0.2, random_state=123)\n",
    "x"
   ]
  },
  {
   "cell_type": "code",
   "execution_count": null,
   "id": "ae15510f-dd9b-4684-903a-b1ee4385cb13",
   "metadata": {},
   "outputs": [],
   "source": [
    "y_train = np.ravel(y_train)\n",
    "\n",
    "rf_classifier = RandomForestClassifier(n_estimators=100, random_state=42,n_jobs=-1)\n",
    "\n",
    "rf_classifier.fit(X_train, y_train)\n",
    "\n",
    "y_pred = rf_classifier.predict(X_test)\n",
    "\n",
    "metrics(y_test, y_pred)\n",
    "#0.3782738095238095 with 84\n",
    "#0.37547386296616525 with 74\n",
    "#0.38125 with 64\n",
    "#0.38839285714285715 with 54\n",
    "#0.3985119047619048 with 44\n",
    "#0.3970238095238095 with 34\n",
    "#0.3794642857142857 with 24\n",
    "#0.3738095238095238 with 14\n",
    "#0.22291666666666668 with 4\n"
   ]
  },
  {
   "cell_type": "code",
   "execution_count": null,
   "id": "0d397b1b-d180-4a16-8272-35a253622404",
   "metadata": {},
   "outputs": [],
   "source": [
    "\n",
    "data = {\n",
    "    84: 0.3782738095238095,\n",
    "    74: 0.37547386296616525,\n",
    "    64: 0.38125,\n",
    "    54: 0.38839285714285715,\n",
    "    44: 0.3985119047619048,\n",
    "    34: 0.3970238095238095,\n",
    "    24: 0.3794642857142857,\n",
    "    14: 0.3738095238095238,\n",
    "    4: 0.22291666666666668\n",
    "}\n",
    "\n",
    "x_values = list(data.keys())\n",
    "y_values = list(data.values())\n",
    "\n",
    "plt.plot(x_values, y_values, marker='o')\n",
    "plt.xlabel('Number of features')\n",
    "plt.ylabel('Accuracy score')\n",
    "plt.title('Number of features vs performance')\n",
    "plt.show()"
   ]
  },
  {
   "cell_type": "code",
   "execution_count": null,
   "id": "f4e3a7cd-3f7b-4b47-b6ff-d67bdcaf0a2e",
   "metadata": {},
   "outputs": [],
   "source": [
    "rf_scores = cross_val_score(rf_classifier, x, pred, cv=10)  \n",
    "\n",
    "print('Cross-Validation Scores:', rf_scores)\n",
    "print('Mean Accuracy:', rf_scores.mean())"
   ]
  },
  {
   "cell_type": "code",
   "execution_count": null,
   "id": "977ad727-bec3-4eb3-ae29-3007788502d2",
   "metadata": {},
   "outputs": [],
   "source": []
  },
  {
   "cell_type": "code",
   "execution_count": null,
   "id": "38303928-f5ac-41a3-8fda-983421521e06",
   "metadata": {},
   "outputs": [],
   "source": [
    "#improve with hyperparameter tuning\n",
    "params = {'max_depth': None, 'min_samples_leaf': 1, 'min_samples_split': 2, 'n_estimators': 1000}\n",
    "y_train = np.ravel(y_train)\n",
    "rf_classifier = RandomForestClassifier(max_depth=params['max_depth'],\n",
    "                                      min_samples_leaf=params['min_samples_leaf'],\n",
    "                                      min_samples_split=params['min_samples_split'],\n",
    "                                      n_estimators=params['n_estimators'] , n_jobs=-1,random_state=42)\n",
    "\n",
    "rf_classifier.fit(X_train, y_train)\n",
    "y_pred = rf_classifier.predict(X_test) \n",
    "\n",
    "metrics(y_test, y_pred) "
   ]
  },
  {
   "cell_type": "code",
   "execution_count": null,
   "id": "cbaba251-5e46-4b6f-a101-736ce7d0a790",
   "metadata": {},
   "outputs": [],
   "source": [
    "rf_scores = cross_val_score(rf_classifier, x, pred, cv=10)\n",
    "print('Cross-Validation Scores:', rf_scores)\n",
    "print('Mean Accuracy:', rf_scores.mean())\n",
    "\n",
    "\n",
    "\n"
   ]
  },
  {
   "cell_type": "code",
   "execution_count": null,
   "id": "def71f81-2693-4dca-aacf-01e85b61688f",
   "metadata": {},
   "outputs": [],
   "source": []
  },
  {
   "cell_type": "code",
   "execution_count": null,
   "id": "69689a0f-be85-40a4-a272-d469d99008b5",
   "metadata": {},
   "outputs": [],
   "source": [
    "rf_scores = cross_val_score(rf_classifier, x, pred, cv=10)\n",
    "print('Cross-Validation Scores:', rf_scores)\n",
    "print('Mean Accuracy:', rf_scores.mean())\n",
    "print('Standard Deviation:', np.std(rf_scores))"
   ]
  },
  {
   "cell_type": "code",
   "execution_count": null,
   "id": "2b4a00a6-f44b-4d8c-b733-f7b16e03787d",
   "metadata": {},
   "outputs": [],
   "source": []
  },
  {
   "cell_type": "code",
   "execution_count": null,
   "id": "c1f50111-ec6c-45ca-8c61-fea523bc544b",
   "metadata": {},
   "outputs": [],
   "source": []
  },
  {
   "cell_type": "code",
   "execution_count": null,
   "id": "bf497cf9-9c85-4703-a98c-73e53167b7e6",
   "metadata": {},
   "outputs": [],
   "source": [
    "ConfusionMatrixDisplay.from_predictions(y_test, y_pred, cmap='Blues')\n",
    "plt.show()"
   ]
  },
  {
   "cell_type": "code",
   "execution_count": null,
   "id": "65ef5a41-2e5b-4909-a985-144f8d5ff4c9",
   "metadata": {},
   "outputs": [],
   "source": [
    "frequency_table = y_test['Age_Group'].value_counts()\n",
    "print(frequency_table)"
   ]
  },
  {
   "cell_type": "code",
   "execution_count": null,
   "id": "0a9a2f4f-2b21-4a25-8f3b-b2d86fe64dad",
   "metadata": {},
   "outputs": [],
   "source": []
  },
  {
   "cell_type": "code",
   "execution_count": null,
   "id": "0f2f807d-17a9-42e8-83f6-3f70c673441a",
   "metadata": {},
   "outputs": [],
   "source": []
  },
  {
   "cell_type": "code",
   "execution_count": null,
   "id": "f079d87a-d648-4171-90a0-13b984b4470e",
   "metadata": {},
   "outputs": [],
   "source": [
    "#naive bayes"
   ]
  },
  {
   "cell_type": "code",
   "execution_count": null,
   "id": "db80ae8b-10af-4422-8fc4-3aa29c7a4f62",
   "metadata": {},
   "outputs": [],
   "source": [
    "#reset data\n",
    "\n",
    "pred = bal_region[[\"Age_Group\"]]\n",
    "x = bal_region.drop(['Age','team_region','player_tag','platform_id','car_name','DOB','advanced_rating','Z_Scores','Age_Group'], axis=1)\n",
    "z = bal_region.iloc[:,2:13]\n",
    "x\n",
    "# Slit the data into a training set and a test set\n",
    "\n",
    "X_train, X_test, y_train, y_test = train_test_split(x, pred, test_size=0.2, random_state=123)\n",
    "\n",
    "#further split the training set into a validation set\n",
    "\n",
    "X_train, X_val, y_train, y_val = train_test_split(X_train, y_train, test_size=0.2, random_state=123)\n",
    "\n",
    "X_train"
   ]
  },
  {
   "cell_type": "code",
   "execution_count": null,
   "id": "0c9f0f65-fce6-46ee-95b5-bd37cc18c63e",
   "metadata": {},
   "outputs": [],
   "source": [
    "#naive base\n",
    "y_train = np.ravel(y_train)\n",
    "gnb = GaussianNB()\n",
    "\n",
    "gnb.fit(X_train, y_train)\n",
    "\n",
    "y_pred = gnb.predict(X_test)\n",
    "metrics(y_test, y_pred)"
   ]
  },
  {
   "cell_type": "code",
   "execution_count": null,
   "id": "94eae2fc-022b-4533-847d-80da6e302196",
   "metadata": {},
   "outputs": [],
   "source": []
  },
  {
   "cell_type": "code",
   "execution_count": null,
   "id": "01bc750a-bba7-49fa-8d8f-8959c9b637a0",
   "metadata": {},
   "outputs": [],
   "source": [
    "nb_scores = cross_val_score(gnb, x, pred, cv=10) \n",
    "print('Cross-Validation Scores:', nb_scores)\n",
    "print('Mean Accuracy:', nb_scores.mean())"
   ]
  },
  {
   "cell_type": "code",
   "execution_count": null,
   "id": "c621ff16-0784-4c3c-9caa-596bd59b343f",
   "metadata": {},
   "outputs": [],
   "source": []
  },
  {
   "cell_type": "code",
   "execution_count": null,
   "id": "24727887-8c5c-4dda-b820-0852bcbedd22",
   "metadata": {},
   "outputs": [],
   "source": []
  },
  {
   "cell_type": "code",
   "execution_count": null,
   "id": "5e568963-2cbd-442e-878d-66cf14c6ba31",
   "metadata": {},
   "outputs": [],
   "source": [
    "\n"
   ]
  },
  {
   "cell_type": "code",
   "execution_count": null,
   "id": "f8979d6a-edfa-42e9-9384-ae37ab7b3b76",
   "metadata": {},
   "outputs": [],
   "source": [
    "pd.reset_option('display.max_rows')\n",
    "\n",
    "pred = bal_region[[\"Age_Group\"]]\n",
    "selected_columns = [\n",
    "    'movement_count_powerslide',\n",
    "    'movement_time_powerslide',\n",
    "    'movement_avg_powerslide_duration',\n",
    "    'movement_percent_supersonic_speed',\n",
    "    'boost_percent_full_boost',\n",
    "    'movement_percent_low_air',\n",
    "    'movement_percent_ground',\n",
    "    'boost_time_full_boost',\n",
    "    'positioning_avg_distance_to_mates',\n",
    "    'boost_amount_used_while_supersonic',\n",
    "    'positioning_avg_distance_to_ball_possession',\n",
    "    'movement_time_supersonic_speed',\n",
    "    'boost_percent_zero_boost',\n",
    "    'movement_percent_boost_speed',\n",
    "    'boost_amount_overfill',\n",
    "    'positioning_avg_distance_to_ball',\n",
    "    'boost_avg_amount',\n",
    "    'boost_bpm',\n",
    "    'boost_time_zero_boost',\n",
    "    'positioning_percent_closest_to_ball',\n",
    "    'boost_percent_boost_75_100',\n",
    "    'positioning_percent_farthest_from_ball',\n",
    "    'boost_bcpm',\n",
    "    'movement_percent_high_air',\n",
    "    'positioning_percent_most_forward',\n",
    "    'positioning_percent_most_back',\n",
    "    'movement_time_ground',\n",
    "    'boost_amount_collected_small',\n",
    "    'movement_percent_slow_speed',\n",
    "    'movement_avg_speed_percentage',\n",
    "    'positioning_avg_distance_to_ball_no_possession',\n",
    "    'boost_percent_boost_25_50',\n",
    "    'movement_time_high_air',\n",
    "    'movement_avg_speed',\n",
    "    'positioning_time_most_forward',\n",
    "    'boost_percent_boost_0_25',\n",
    "    'boost_time_boost_75_100',\n",
    "    'positioning_time_farthest_from_ball',\n",
    "    'core_score',\n",
    "    'boost_percent_boost_50_75',\n",
    "    'movement_time_low_air',\n",
    "    'positioning_percent_neutral_third',\n",
    "    'boost_count_collected_small',\n",
    "    'movement_time_boost_speed'\n",
    "]\n",
    "\n",
    "x = bal_region[selected_columns]\n",
    "#x_2 = final_bal.drop(['Age','team_region','player_tag','platform_id','car_name','DOB','advanced_rating','Z_Scores','Age_Group'], axis=1)\n",
    "X_train, X_test, y_train, y_test = train_test_split(x, pred, test_size=0.2, random_state=123)\n",
    "\n",
    "#further split the training set into a validation set\n",
    "\n",
    "X_train, X_val, y_train, y_val = train_test_split(X_train, y_train, test_size=0.2, random_state=123)\n",
    "x"
   ]
  },
  {
   "cell_type": "code",
   "execution_count": null,
   "id": "ced33f2a-c06c-4fb4-8060-3384fb0dc138",
   "metadata": {
    "tags": []
   },
   "outputs": [],
   "source": [
    "\n",
    "y_train = np.ravel(y_train) \n",
    "gnb = GaussianNB()\n",
    "gnb.fit(X_train, y_train)\n",
    "\n",
    "y_pred = gnb.predict(X_test)\n",
    "metrics(y_test, y_pred)"
   ]
  },
  {
   "cell_type": "code",
   "execution_count": null,
   "id": "48096fc0-a6f8-4ded-8a8e-f9cd06ef4e70",
   "metadata": {},
   "outputs": [],
   "source": [
    "nb_scores = cross_val_score(gnb, x, pred, cv=10)  \n",
    "\n",
    "print('Cross-Validation Scores:', nb_scores)\n",
    "print('Mean Accuracy:', nb_scores.mean())"
   ]
  },
  {
   "cell_type": "code",
   "execution_count": null,
   "id": "0b518176-606d-4ec4-a4f1-5cf4174dd645",
   "metadata": {},
   "outputs": [],
   "source": [
    "ConfusionMatrixDisplay.from_predictions(y_test, y_pred, cmap='Blues')\n",
    "plt.show()"
   ]
  },
  {
   "cell_type": "code",
   "execution_count": null,
   "id": "cd2c8bc9-132e-45fe-bfd6-f3c64a753c74",
   "metadata": {},
   "outputs": [],
   "source": [
    "#improve with parameter tuning\n",
    "\n"
   ]
  },
  {
   "cell_type": "code",
   "execution_count": null,
   "id": "778fec81-4f25-4a03-8ab2-0d8e1a874449",
   "metadata": {},
   "outputs": [],
   "source": [
    "\n",
    "gnb = GaussianNB()\n",
    "y_train = np.ravel(y_train) \n",
    "\n",
    "param_grid = {\n",
    "    'var_smoothing': [1e-9, 1e-8, 1e-7, 1e-6, 1e-5],  \n",
    "    'priors': [None, [0.25, 0.25, 0.5], [0.2, 0.3, 0.5]] \n",
    "\n",
    "}\n",
    "\n",
    "param_grid = {'var_smoothing': np.logspace(0,-9, num=100)\n",
    "             }\n",
    "\n",
    "\n",
    "grid_search = GridSearchCV(gnb, param_grid, cv=5)\n",
    "grid_search.fit(X_train, y_train)\n",
    "\n",
    "y_pred = grid_search.predict(X_test)\n",
    "metrics(y_test, y_pred)"
   ]
  },
  {
   "cell_type": "code",
   "execution_count": null,
   "id": "2273bc40-1ab7-4480-a7e5-e42795145553",
   "metadata": {},
   "outputs": [],
   "source": []
  },
  {
   "cell_type": "code",
   "execution_count": null,
   "id": "af56bb85-e23b-4aa2-a597-2011fdcfd898",
   "metadata": {
    "tags": []
   },
   "outputs": [],
   "source": [
    "y_train = np.ravel(y_train) \n",
    "nb_scores = cross_val_score(grid_search, x, pred, cv=10)  \n",
    "\n",
    "print('Cross-Validation Scores:', nb_scores)\n",
    "print('Mean Accuracy:', nb_scores.mean())"
   ]
  },
  {
   "cell_type": "code",
   "execution_count": null,
   "id": "7ec85711-51cd-4da2-af6a-2009e415bd89",
   "metadata": {},
   "outputs": [],
   "source": []
  },
  {
   "cell_type": "code",
   "execution_count": null,
   "id": "0e7aa732-4284-4995-ba37-3b898d1f31f0",
   "metadata": {},
   "outputs": [],
   "source": []
  },
  {
   "cell_type": "code",
   "execution_count": null,
   "id": "0b45c122-5f2e-4a77-b35a-6602f99fead9",
   "metadata": {},
   "outputs": [],
   "source": [
    "#reset data\n",
    "\n",
    "pred = bal_region[[\"Age_Group\"]]\n",
    "x = bal_region.drop(['Age','team_region','player_tag','platform_id','car_name','DOB','advanced_rating','Z_Scores','Age_Group'], axis=1)\n",
    "z = bal_region.iloc[:,2:13]\n",
    "x\n",
    "# Slit the data into a training set and a test set\n",
    "\n",
    "X_train, X_test, y_train, y_test = train_test_split(x, pred, test_size=0.2, random_state=123)\n",
    "\n",
    "#further split the training set into a validation set\n",
    "\n",
    "X_train, X_val, y_train, y_val = train_test_split(X_train, y_train, test_size=0.2, random_state=123)\n",
    "\n",
    "X_train"
   ]
  },
  {
   "cell_type": "code",
   "execution_count": null,
   "id": "806d9aa5-0a8a-416f-aec2-0c28ff67be21",
   "metadata": {},
   "outputs": [],
   "source": [
    "#logistic regression\n"
   ]
  },
  {
   "cell_type": "code",
   "execution_count": null,
   "id": "b1afeb54-b756-40cb-bc88-94c59cb269a4",
   "metadata": {},
   "outputs": [],
   "source": [
    "\n",
    "y_train = np.ravel(y_train)\n",
    "\n",
    "log_reg = LogisticRegression(n_jobs=-1)\n",
    "\n",
    "log_reg.fit(X_train, y_train)\n",
    "\n",
    "y_pred = log_reg.predict(X_test)\n",
    "metrics(y_test, y_pred)"
   ]
  },
  {
   "cell_type": "code",
   "execution_count": null,
   "id": "276b2995-d479-4eae-b384-d6f998a28125",
   "metadata": {},
   "outputs": [],
   "source": [
    "y_train = np.ravel(y_train) \n",
    "lr_scores = cross_val_score(log_reg, x, pred, cv=10) \n",
    "\n",
    "print('Cross-Validation Scores:', lr_scores)\n",
    "print('Mean Accuracy:', lr_scores.mean())"
   ]
  },
  {
   "cell_type": "code",
   "execution_count": null,
   "id": "c6c48939-3a1e-49fa-9ad2-a107d05fbf9d",
   "metadata": {},
   "outputs": [],
   "source": [
    "pd.reset_option('display.max_rows')\n",
    "\n",
    "pred = bal_region[[\"Age_Group\"]]\n",
    "selected_columns = [\n",
    "    'movement_count_powerslide',\n",
    "    'movement_time_powerslide',\n",
    "    'movement_avg_powerslide_duration',\n",
    "    'movement_percent_supersonic_speed',\n",
    "    'boost_percent_full_boost',\n",
    "    'movement_percent_low_air',\n",
    "    'movement_percent_ground',\n",
    "    'boost_time_full_boost',\n",
    "    'positioning_avg_distance_to_mates',\n",
    "    'boost_amount_used_while_supersonic',\n",
    "    'positioning_avg_distance_to_ball_possession',\n",
    "    'movement_time_supersonic_speed',\n",
    "    'boost_percent_zero_boost',\n",
    "    'movement_percent_boost_speed',\n",
    "    'boost_amount_overfill',\n",
    "    'positioning_avg_distance_to_ball',\n",
    "    'boost_avg_amount',\n",
    "    'boost_bpm',\n",
    "    'boost_time_zero_boost',\n",
    "    'positioning_percent_closest_to_ball',\n",
    "    'boost_percent_boost_75_100',\n",
    "    'positioning_percent_farthest_from_ball',\n",
    "    'boost_bcpm',\n",
    "    'movement_percent_high_air',\n",
    "    'positioning_percent_most_forward',\n",
    "    'positioning_percent_most_back',\n",
    "    'movement_time_ground',\n",
    "    'boost_amount_collected_small',\n",
    "    'movement_percent_slow_speed',\n",
    "    'movement_avg_speed_percentage',\n",
    "    'positioning_avg_distance_to_ball_no_possession',\n",
    "    'boost_percent_boost_25_50',\n",
    "    'movement_time_high_air',\n",
    "    'movement_avg_speed',\n",
    "    'positioning_time_most_forward',\n",
    "    'boost_percent_boost_0_25',\n",
    "    'boost_time_boost_75_100',\n",
    "    'positioning_time_farthest_from_ball',\n",
    "    'core_score',\n",
    "    'boost_percent_boost_50_75',\n",
    "    'movement_time_low_air',\n",
    "    'positioning_percent_neutral_third',\n",
    "    'boost_count_collected_small',\n",
    "    'movement_time_boost_speed'\n",
    "]\n",
    "\n",
    "x = bal_region[selected_columns]\n",
    "#x_2 = final_bal.drop(['Age','team_region','player_tag','platform_id','car_name','DOB','advanced_rating','Z_Scores','Age_Group'], axis=1)\n",
    "X_train, X_test, y_train, y_test = train_test_split(x, pred, test_size=0.2, random_state=123)\n",
    "\n",
    "#further split the training set into a validation set\n",
    "\n",
    "X_train, X_val, y_train, y_val = train_test_split(X_train, y_train, test_size=0.2, random_state=123)\n",
    "x"
   ]
  },
  {
   "cell_type": "code",
   "execution_count": null,
   "id": "bd8a3846-05d2-4a5b-b03e-296e69011b57",
   "metadata": {},
   "outputs": [],
   "source": [
    "# Logstic regression\n",
    "y_train = np.ravel(y_train) \n",
    "\n",
    "log_reg = LogisticRegression(n_jobs=-1)\n",
    "\n",
    "# Fit the model on the training data\n",
    "log_reg.fit(X_train, y_train)\n",
    "\n",
    "# Make predictions on the test data\n",
    "y_pred = log_reg.predict(X_test)\n",
    "metrics(y_test, y_pred)"
   ]
  },
  {
   "cell_type": "code",
   "execution_count": null,
   "id": "11711d12-1a12-4be2-beda-4529d37b2208",
   "metadata": {},
   "outputs": [],
   "source": [
    "y_train = np.ravel(y_train)\n",
    "lr_scores = cross_val_score(log_reg, x, pred, cv=10) \n",
    "\n",
    "print('Cross-Validation Scores:', lr_scores)\n",
    "print('Mean Accuracy:', lr_scores.mean())"
   ]
  },
  {
   "cell_type": "code",
   "execution_count": null,
   "id": "e3aeb4fe-cf0d-4b67-8758-8a78cd6bec51",
   "metadata": {},
   "outputs": [],
   "source": []
  },
  {
   "cell_type": "code",
   "execution_count": null,
   "id": "a39fd969-f207-47ad-989d-90dc23b9e569",
   "metadata": {},
   "outputs": [],
   "source": []
  },
  {
   "cell_type": "code",
   "execution_count": null,
   "id": "edafd865-0cdf-4d0f-999d-9c11927e86cf",
   "metadata": {},
   "outputs": [],
   "source": [
    "#reset data\n",
    "\n",
    "pred = bal_region[[\"Age_Group\"]]\n",
    "x = bal_region.drop(['Age','team_region','player_tag','platform_id','car_name','DOB','advanced_rating','Z_Scores','Age_Group'], axis=1)\n",
    "z = bal_region.iloc[:,2:13]\n",
    "x\n",
    "# Slit the data into a training set and a test set\n",
    "\n",
    "X_train, X_test, y_train, y_test = train_test_split(x, pred, test_size=0.2, random_state=123)\n",
    "\n",
    "#further split the training set into a validation set\n",
    "\n",
    "X_train, X_val, y_train, y_val = train_test_split(X_train, y_train, test_size=0.2, random_state=123)\n",
    "\n",
    "X_train"
   ]
  },
  {
   "cell_type": "code",
   "execution_count": null,
   "id": "eb5e06ac-2210-4300-9cc0-62ca9cd3a355",
   "metadata": {},
   "outputs": [],
   "source": [
    "#SVM"
   ]
  },
  {
   "cell_type": "code",
   "execution_count": null,
   "id": "a2ab4328-d40e-410a-8436-3b1b2e823b19",
   "metadata": {
    "tags": []
   },
   "outputs": [],
   "source": [
    "\n",
    "y_train = np.ravel(y_train) \n",
    "\n",
    "svm_classifier = SVC(kernel='linear')\n",
    "svm_classifier.fit(X_train, y_train)\n",
    "y_pred = svm_classifier.predict(X_test)\n",
    "     \n",
    "metrics(y_test, y_pred)\n"
   ]
  },
  {
   "cell_type": "code",
   "execution_count": null,
   "id": "837ed1a1-6077-4e67-85f7-73a65f848ee8",
   "metadata": {},
   "outputs": [],
   "source": []
  },
  {
   "cell_type": "code",
   "execution_count": null,
   "id": "b4c54b0a-29b2-4983-8b91-53e872c8c30c",
   "metadata": {},
   "outputs": [],
   "source": []
  },
  {
   "cell_type": "code",
   "execution_count": null,
   "id": "f625f847-6643-4f0b-b2c4-c20659223d4f",
   "metadata": {},
   "outputs": [],
   "source": []
  },
  {
   "cell_type": "code",
   "execution_count": null,
   "id": "ccd7f926-0989-42e7-b0f1-b8836356ecd3",
   "metadata": {},
   "outputs": [],
   "source": []
  },
  {
   "cell_type": "code",
   "execution_count": null,
   "id": "fda26c42-56f6-4cef-a69e-af1796d1575b",
   "metadata": {},
   "outputs": [],
   "source": [
    "#binary + region"
   ]
  },
  {
   "cell_type": "code",
   "execution_count": null,
   "id": "fbf15444-38bf-4f31-ac16-a8dfe227e1cc",
   "metadata": {},
   "outputs": [],
   "source": [
    "final_bin_region = final_featureengi.copy()"
   ]
  },
  {
   "cell_type": "code",
   "execution_count": null,
   "id": "37f572ee-d3fb-4a97-b8e5-eb2bdaec1398",
   "metadata": {},
   "outputs": [],
   "source": [
    "selected_regions = ['North America', 'Europe']\n",
    "\n",
    "final_bin_region = final_bin_region[final_bin_region['team_region'].isin(selected_regions)]\n",
    "\n",
    "final_bin_region"
   ]
  },
  {
   "cell_type": "code",
   "execution_count": null,
   "id": "c15780ef-ef37-4b7e-a5e7-1a870f322c37",
   "metadata": {},
   "outputs": [],
   "source": [
    "\n",
    "from dateutil.relativedelta import relativedelta\n",
    "\n",
    "\n",
    "final_bin_region['DOB'] = pd.to_datetime(final_bin_region['DOB'])\n",
    "\n",
    "\n",
    "reference_date = pd.to_datetime('2022-10-01')\n",
    "\n",
    "\n",
    "final_bin_region['Age'] = final_bin_region['DOB'].apply(lambda x: relativedelta(reference_date, x).years + round(relativedelta(reference_date, x).months / 12, 1))\n",
    "frequency_table3 = final_bin_region['Age'].value_counts()\n",
    "frequency_table3 = frequency_table3.sort_index()\n",
    "\n",
    "frequency_table3.to_excel('frequency_table4.xlsx', index_label='Age')\n"
   ]
  },
  {
   "cell_type": "code",
   "execution_count": null,
   "id": "47d2debd-2000-4d8e-95bc-5d88013a14e4",
   "metadata": {},
   "outputs": [],
   "source": [
    "#make the problem binary classification: 15:19 and 20:31\n",
    "#which are 43810 and 32622 values\n",
    "\n",
    "#now better with 15:19.7 and 19.8:31.2\n",
    "#which are 38323 and 18109\n",
    "\n",
    "def categorize_age(age):\n",
    "    if age >= 15 and age <= 19.6:\n",
    "        return 'young'\n",
    "    elif age >= 19.7 and age <= 31.2:\n",
    "        return 'old'\n",
    "    else:\n",
    "        return 'unknown'\n",
    "\n",
    "\n",
    "\n",
    "\n",
    "final_bin_region['Age_Category'] = final_bin_region['Age'].apply(categorize_age)\n",
    "\n",
    "\n",
    "frequency_table3 = final_bin_region['Age_Category'].value_counts()\n",
    "frequency_table3 = frequency_table3.sort_index()\n",
    "\n",
    "\n",
    "\n",
    "print(frequency_table3)\n",
    "\n",
    "\n"
   ]
  },
  {
   "cell_type": "code",
   "execution_count": null,
   "id": "13ee1b68-dbb2-43a0-9fc3-ed51e758ddca",
   "metadata": {},
   "outputs": [],
   "source": [
    "\n",
    "cols_to_normalize = bal_region.columns[2:87]\n",
    "\n",
    "scaler = MinMaxScaler()\n",
    "\n",
    "final_bin_region[cols_to_normalize] = scaler.fit_transform(final_bin_region[cols_to_normalize])\n",
    "\n",
    "\n",
    "\n",
    "pred_bin = final_bin_region[[\"Age_Category\"]]\n",
    "x_bin = final_bin_region.drop(['Age','Age_Category','team_region','player_tag','platform_id','car_name','DOB','advanced_rating','Z_Scores'], axis=1)\n",
    "\n",
    "X_train, X_test, y_train, y_test = train_test_split(x_bin, pred_bin, test_size=0.2, random_state=123)\n",
    "\n",
    "#further split the training set into a validation set\n",
    "\n",
    "X_train, X_val, y_train, y_val = train_test_split(X_train, y_train, test_size=0.2, random_state=123)\n",
    "x_bin"
   ]
  },
  {
   "cell_type": "code",
   "execution_count": null,
   "id": "df375773-07ae-4ac6-b973-8c5ee412ca39",
   "metadata": {},
   "outputs": [],
   "source": [
    "y_train = np.ravel(y_train) \n",
    "rf_classifier_bin = RandomForestClassifier(n_estimators=100, random_state=42,n_jobs=-1)\n",
    "\n",
    "\n",
    "rf_classifier_bin.fit(X_train, y_train)\n",
    "\n",
    "\n",
    "y_pred = rf_classifier_bin.predict(X_test)\n",
    "\n",
    "metrics(y_test, y_pred)"
   ]
  },
  {
   "cell_type": "code",
   "execution_count": null,
   "id": "6345718c-f698-4031-8a3e-41dc1a584995",
   "metadata": {},
   "outputs": [],
   "source": [
    "rf_scores_bin = cross_val_score(rf_classifier_bin, x_bin, pred_bin, cv=10) \n",
    "print('Cross-Validation Scores:', rf_scores_bin)\n",
    "print('Mean Accuracy:', rf_scores_bin.mean())\n",
    "\n",
    "\n"
   ]
  },
  {
   "cell_type": "code",
   "execution_count": null,
   "id": "6a7d1431-96ca-4e1e-8f65-70c12e790e6c",
   "metadata": {},
   "outputs": [],
   "source": [
    "# Retrieve feature importances\n",
    "feature_importance = pd.Series(rf_classifier_bin.feature_importances_, index=X_train.columns).sort_values(ascending=False)\n",
    "pd.set_option('display.max_rows', None)\n",
    "\n",
    "print(feature_importance)"
   ]
  },
  {
   "cell_type": "code",
   "execution_count": null,
   "id": "f4003c6c-1d30-4c81-af07-c72505b6a1a9",
   "metadata": {},
   "outputs": [],
   "source": [
    "selected_columns = [\n",
    "    \"movement_count_powerslide\",\n",
    "    \"movement_avg_powerslide_duration\",\n",
    "    \"movement_time_powerslide\",\n",
    "    \"movement_percent_supersonic_speed\",\n",
    "    \"movement_time_supersonic_speed\",\n",
    "    \"boost_bpm\",\n",
    "    \"boost_bcpm\",\n",
    "    \"positioning_avg_distance_to_mates\",\n",
    "    \"positioning_avg_distance_to_ball_possession\",\n",
    "    \"movement_percent_boost_speed\",\n",
    "    \"boost_percent_full_boost\",\n",
    "    \"boost_amount_used_while_supersonic\",\n",
    "    \"boost_amount_collected_small\",\n",
    "    \"boost_time_full_boost\",\n",
    "    \"positioning_avg_distance_to_ball\",\n",
    "    \"positioning_percent_farthest_from_ball\",\n",
    "    \"movement_percent_ground\",\n",
    "    \"core_score\",\n",
    "    \"movement_time_boost_speed\",\n",
    "    \"positioning_percent_closest_to_ball\",\n",
    "    \"movement_percent_low_air\",\n",
    "    \"boost_amount_collected\",\n",
    "    \"boost_avg_amount\",\n",
    "    \"boost_count_collected_small\",\n",
    "    \"boost_amount_overfill\",\n",
    "    \"positioning_percent_most_back\",\n",
    "    \"movement_percent_high_air\",\n",
    "    \"boost_time_zero_boost\",\n",
    "    \"boost_percent_boost_75_100\",\n",
    "    \"positioning_avg_distance_to_ball_no_possession\",\n",
    "    \"boost_time_boost_75_100\",\n",
    "    \"movement_time_high_air\",\n",
    "    \"positioning_percent_neutral_third\",\n",
    "    \"boost_percent_boost_50_75\",\n",
    "    \"boost_percent_boost_0_25\",\n",
    "    \"boost_percent_zero_boost\",\n",
    "    \"positioning_percent_most_forward\",\n",
    "    \"boost_percent_boost_25_50\",\n",
    "    \"boost_time_boost_25_50\",\n",
    "    \"movement_time_low_air\",\n",
    "    \"positioning_time_farthest_from_ball\",\n",
    "    \"positioning_time_most_back\",\n",
    "    \"boost_time_boost_50_75\",\n",
    "    \"movement_percent_slow_speed\",\n",
    "    \"movement_avg_speed\",\n",
    "    \"movement_avg_speed_percentage\",\n",
    "    \"movement_total_distance\",\n",
    "    \"boost_amount_collected_big\",\n",
    "    \"boost_time_boost_0_25\",\n",
    "    \"positioning_time_neutral_third\",\n",
    "    \"movement_time_ground\",\n",
    "    \"movement_time_slow_speed\",\n",
    "    \"positioning_time_in_front_ball\",\n",
    "    \"boost_amount_stolen\",\n",
    "    \"boost_amount_stolen_small\",\n",
    "    \"positioning_percent_offensive_third\",\n",
    "    \"positioning_time_most_forward\",\n",
    "    \"positioning_time_behind_ball\",\n",
    "    \"positioning_time_closest_to_ball\",\n",
    "    \"positioning_percent_in_front_ball\",\n",
    "    \"boost_amount_overfill_stolen\",\n",
    "    \"boost_amount_stolen_big\",\n",
    "    \"positioning_percent_behind_ball\",\n",
    "    \"positioning_percent_defensive_third\"\n",
    "]\n",
    "\n",
    "\n",
    "pd.reset_option('display.max_rows')\n",
    "pred_bin = final_bin_region[[\"Age_Category\"]]\n",
    "x_bin = final_bin_region[selected_columns]\n",
    "\n",
    "\n",
    "\n",
    "#selected_columns = ['movement_count_powerslide', 'movement_percent_supersonic_speed', 'movement_time_powerslide', 'movement_time_supersonic_speed', 'positioning_avg_distance_to_ball_possession', 'movement_avg_powerslide_duration', 'boost_percent_full_boost', 'boost_amount_used_while_supersonic', 'positioning_avg_distance_to_ball', 'boost_time_full_boost', 'movement_percent_boost_speed', 'positioning_avg_distance_to_mates', 'movement_percent_ground', 'movement_percent_high_air', 'positioning_avg_distance_to_ball_no_possession', 'positioning_percent_most_back', 'boost_bpm', 'movement_time_high_air', 'movement_percent_low_air', 'boost_percent_boost_75_100', 'boost_amount_overfill', 'positioning_percent_closest_to_ball', 'positioning_percent_farthest_from_ball', 'boost_bcpm', 'boost_avg_amount', 'movement_time_boost_speed', 'boost_amount_collected_small', 'positioning_percent_most_forward', 'boost_time_boost_75_100', 'boost_percent_zero_boost', 'positioning_percent_neutral_third', 'core_score', 'boost_percent_boost_25_50', 'boost_time_zero_boost', 'movement_time_ground', 'boost_percent_boost_50_75', 'boost_time_boost_25_50', 'positioning_time_most_back', 'movement_time_low_air', 'boost_time_boost_50_75', 'movement_percent_slow_speed', 'boost_time_boost_0_25', 'positioning_time_neutral_third', 'positioning_time_most_forward', 'positioning_time_farthest_from_ball', 'positioning_percent_behind_ball', 'boost_percent_boost_0_25', 'movement_avg_speed', 'boost_amount_stolen', 'movement_avg_speed_percentage', 'positioning_percent_in_front_ball', 'boost_amount_stolen_small', 'positioning_time_in_front_ball', 'positioning_time_closest_to_ball', 'boost_amount_collected', 'boost_amount_collected_big', 'boost_amount_stolen_big', 'positioning_percent_offensive_third', 'positioning_time_offensive_third', 'movement_time_slow_speed', 'boost_count_collected_small', 'boost_amount_overfill_stolen', 'movement_total_distance', 'positioning_percent_defensive_third', 'positioning_time_behind_ball', 'positioning_time_defensive_half', 'positioning_time_defensive_third', 'positioning_time_offensive_half', 'positioning_percent_offensive_half', 'positioning_percent_defensive_half', 'boost_count_stolen_small']\n",
    "\n",
    "#x_bin2 = final_binary[selected_columns]\n",
    "\n",
    "X_train, X_test, y_train, y_test = train_test_split(x_bin, pred_bin, test_size=0.2, random_state=123)\n",
    "\n",
    "#further split the training set into a validation set\n",
    "\n",
    "X_train, X_val, y_train, y_val = train_test_split(X_train, y_train, test_size=0.2, random_state=123)\n",
    "x_bin"
   ]
  },
  {
   "cell_type": "code",
   "execution_count": null,
   "id": "704d732c-adb5-4132-b983-65c7529c8f0c",
   "metadata": {},
   "outputs": [],
   "source": [
    "y_train = np.ravel(y_train) \n",
    "rf_classifier_bin = RandomForestClassifier(n_estimators=100, random_state=42,n_jobs=-1)\n",
    "\n",
    "rf_classifier_bin.fit(X_train, y_train)\n",
    "\n",
    "y_pred = rf_classifier_bin.predict(X_test)\n",
    "\n",
    "metrics(y_test, y_pred)\n",
    "#0.693898965672313 with 84\n",
    "#0.688502473392295 with 74\n",
    "#0.6940488682356468 with 64\n",
    "#0.69299955029231 with 54\n",
    "#0.6959976015589867 with 44\n",
    "#0.6926997451656424 with 34\n",
    "# with 0.6889521810822965 with 24\n",
    "#0.6756108529455853 with 14\n",
    "#0.6018587917853395 with 4"
   ]
  },
  {
   "cell_type": "code",
   "execution_count": null,
   "id": "99ebe899-e4b8-432e-aa86-09a28f454abf",
   "metadata": {},
   "outputs": [],
   "source": [
    "rf_scores_bin = cross_val_score(rf_classifier_bin, x_bin, pred_bin, cv=10)  # Change cv=5 to the desired number of folds\n",
    "\n",
    "print('Cross-Validation Scores:', rf_scores_bin)\n",
    "print('Mean Accuracy:', rf_scores_bin.mean())\n"
   ]
  },
  {
   "cell_type": "code",
   "execution_count": null,
   "id": "fc73ca6a-653d-41ce-806e-4a326e5c17f6",
   "metadata": {},
   "outputs": [],
   "source": [
    "#improve with tuning"
   ]
  },
  {
   "cell_type": "code",
   "execution_count": null,
   "id": "1025ae7f-465b-446a-b0f7-a96c0b14afac",
   "metadata": {},
   "outputs": [],
   "source": [
    "params = {'max_depth': None, 'min_samples_leaf': 1, 'min_samples_split': 2, 'n_estimators': 1000}\n",
    "y_train = np.ravel(y_train)\n",
    "rf_classifier_bin = RandomForestClassifier(max_depth=params['max_depth'],\n",
    "                                      min_samples_leaf=params['min_samples_leaf'],\n",
    "                                      min_samples_split=params['min_samples_split'],\n",
    "                                      n_estimators=params['n_estimators'] , n_jobs=-1,random_state=42)\n",
    "\n",
    "rf_classifier_bin.fit(X_train, y_train)\n",
    "\n",
    "y_pred = rf_classifier_bin.predict(X_test) \n",
    "\n",
    "metrics(y_test, y_pred) "
   ]
  },
  {
   "cell_type": "code",
   "execution_count": null,
   "id": "2751b82a-1669-46ef-b571-c1d49e56dfb4",
   "metadata": {
    "tags": []
   },
   "outputs": [],
   "source": [
    "rf_scores_bin = cross_val_score(rf_classifier_bin, x_bin, pred_bin, cv=10)  \n",
    "print('Cross-Validation Scores:', rf_scores_bin)\n",
    "print('Mean Accuracy:', rf_scores_bin.mean())\n",
    "print('Standard Deviation:', np.std(rf_scores_bin))"
   ]
  },
  {
   "cell_type": "code",
   "execution_count": null,
   "id": "5f78827b-37f0-44be-aa96-320fc53a775f",
   "metadata": {},
   "outputs": [],
   "source": [
    "ConfusionMatrixDisplay.from_predictions(y_test, y_pred, cmap='Blues')\n",
    "plt.show()"
   ]
  }
 ],
 "metadata": {
  "kernelspec": {
   "display_name": "Python 3 (ipykernel)",
   "language": "python",
   "name": "python3"
  },
  "language_info": {
   "codemirror_mode": {
    "name": "ipython",
    "version": 3
   },
   "file_extension": ".py",
   "mimetype": "text/x-python",
   "name": "python",
   "nbconvert_exporter": "python",
   "pygments_lexer": "ipython3",
   "version": "3.9.12"
  }
 },
 "nbformat": 4,
 "nbformat_minor": 5
}
